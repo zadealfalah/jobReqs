{
 "cells": [
  {
   "cell_type": "code",
   "execution_count": 37,
   "metadata": {},
   "outputs": [],
   "source": [
    "import spacy\n",
    "import openai\n",
    "import json\n",
    "import os\n",
    "from dotenv import load_dotenv\n",
    "from tenacity import retry, stop_after_attempt, wait_random_exponential\n",
    "from random import sample, seed\n",
    "import re"
   ]
  },
  {
   "cell_type": "code",
   "execution_count": 3,
   "metadata": {},
   "outputs": [],
   "source": [
    "nlp = spacy.load(\"en_core_web_sm\")"
   ]
  },
  {
   "cell_type": "code",
   "execution_count": 4,
   "metadata": {},
   "outputs": [
    {
     "data": {
      "text/plain": [
       "1"
      ]
     },
     "execution_count": 4,
     "metadata": {},
     "output_type": "execute_result"
    }
   ],
   "source": [
    "custom_ner = nlp.add_pipe(\"ner\", name=\"custom_ner\")\n",
    "custom_ner.add_label(\"TECHNOLOGY\")"
   ]
  },
  {
   "cell_type": "code",
   "execution_count": 5,
   "metadata": {},
   "outputs": [
    {
     "data": {
      "text/plain": [
       "True"
      ]
     },
     "execution_count": 5,
     "metadata": {},
     "output_type": "execute_result"
    }
   ],
   "source": [
    "load_dotenv()"
   ]
  },
  {
   "cell_type": "markdown",
   "metadata": {},
   "source": [
    "## Before putting anything in to the openai api\n",
    "Set up a binary classifier to identify if a given paragraph has any relevance to the task.  I.e. if it contains any technologies/skills that I might want to take out.  \n",
    "### First step is to grab a bunch of paragraphs from job descriptions, label a few hundred as relevant or not."
   ]
  },
  {
   "cell_type": "code",
   "execution_count": 24,
   "metadata": {},
   "outputs": [],
   "source": [
    "job_desc_list = []\n",
    "with open(fr\"data/raw_data-09-09-23.json\") as f:\n",
    "    data = json.load(f)"
   ]
  },
  {
   "cell_type": "code",
   "execution_count": 27,
   "metadata": {},
   "outputs": [
    {
     "data": {
      "text/plain": [
       "272"
      ]
     },
     "execution_count": 27,
     "metadata": {},
     "output_type": "execute_result"
    }
   ],
   "source": [
    "len(job_desc_list)"
   ]
  },
  {
   "cell_type": "code",
   "execution_count": 25,
   "metadata": {},
   "outputs": [],
   "source": [
    "for key in list(data.keys()):\n",
    "    if key.startswith(\"metadata\"):\n",
    "        continue\n",
    "    else:\n",
    "        job_desc_list.append(data[key]['desc'])"
   ]
  },
  {
   "cell_type": "code",
   "execution_count": 26,
   "metadata": {},
   "outputs": [
    {
     "data": {
      "text/plain": [
       "136.0"
      ]
     },
     "execution_count": 26,
     "metadata": {},
     "output_type": "execute_result"
    }
   ],
   "source": [
    "len(job_desc_list)/2"
   ]
  },
  {
   "cell_type": "code",
   "execution_count": 28,
   "metadata": {},
   "outputs": [],
   "source": [
    "#not many jobs in total here, randomly sample half of them to label. set seed for reproducability\n",
    "seed(10) \n",
    "jobs_to_label = sample(job_desc_list, int(len(job_desc_list)/2))"
   ]
  },
  {
   "cell_type": "code",
   "execution_count": 38,
   "metadata": {},
   "outputs": [],
   "source": [
    "# print(jobs_to_label[85])"
   ]
  },
  {
   "cell_type": "code",
   "execution_count": 51,
   "metadata": {},
   "outputs": [],
   "source": [
    "def split_on_empty_lines(text):\n",
    "    \"\"\"Used to try and split paragraphs where there are 2 or more newlines in a row\"\"\"\n",
    "    blank_line_regex = r\"(?:\\r?\\n){1,}\"\n",
    "    return re.split(blank_line_regex, text.strip())"
   ]
  },
  {
   "cell_type": "code",
   "execution_count": 53,
   "metadata": {},
   "outputs": [
    {
     "data": {
      "text/plain": [
       "['Collaborate closely with cross-functional teams including data scientists, product managers, and software developers to understand requirements and objectives for building a benchmark chat application. ',\n",
       " ' Leverage your in-depth knowledge of the Google Cloud Platform and associated tools to design, develop, and deploy scalable and reliable solutions. ',\n",
       " ' Utilize Google Gen AI App Builder to create a chat application that showcases the capabilities of AI-powered conversation models. ',\n",
       " ' Work with existing data sets to ensure consistent and relevant input for the chat application, ensuring optimal performance and benchmarking accuracy. ',\n",
       " ' ',\n",
       " ' Qualifications and Skills: ',\n",
       " ' ',\n",
       " ' Data engineer or software engineer who must be hands on with GCP platform and tools, and understand Gen AI technologies (Google Gen AI App Builder). ',\n",
       " ' Use Google Gen AI App Builder to build benchmark chat based on same data sets ',\n",
       " ' Deep understanding of General Artificial Intelligence (Gen AI) technologies, particularly in the context of natural language processing and conversation models. ',\n",
       " ' ',\n",
       " ' Prior experience with AI-powered Chabot development and integration is highly desirable ',\n",
       " ' Job Type: Contract ',\n",
       " ' Experience level: ',\n",
       " ' ',\n",
       " ' 8 years ',\n",
       " ' ',\n",
       " ' Schedule: ',\n",
       " ' ',\n",
       " ' 8 hour shift ',\n",
       " ' ',\n",
       " ' Experience: ',\n",
       " ' ',\n",
       " ' GCP: 6 years (Preferred) ',\n",
       " ' Natural language processing: 4 years (Preferred) ',\n",
       " ' ',\n",
       " ' Work Location: Remote']"
      ]
     },
     "execution_count": 53,
     "metadata": {},
     "output_type": "execute_result"
    }
   ],
   "source": [
    "split_on_empty_lines(jobs_to_label[0])"
   ]
  },
  {
   "cell_type": "code",
   "execution_count": null,
   "metadata": {},
   "outputs": [],
   "source": []
  },
  {
   "cell_type": "code",
   "execution_count": 36,
   "metadata": {},
   "outputs": [
    {
     "data": {
      "text/plain": [
       "[(\"Extreme Networks Named to Computerworld’s 2023 List of Best Places to Work in IT! \\n \\n \\n   Over 50,000 customers globally trust our end-to-end, cloud-driven networking solutions and rely on our top-rated services and support to accelerate their digital transformation efforts and deliver progress like never before and with double digit growth year over year, no provider is better positioned to deliver better outcomes on scale, than Extreme.\\n  \\n \\n   We believe in \\n   “walking the walk”  of our strong core values which enable us to successfully advance together. Diversity and Inclusion is a vital part of our values and beliefs, and we’re proud to foster an environment where every Extreme employee can thrive.\\n  \\n \\n   Come become part of something big with us! We are a global leader, with hubs in North America, South America, Asia Pacific, Europe, and the Middle East.\\n  \\n \\n \\n  The Systems Engineer will be an integral member supporting the Sales Account Executive team in a Pre-Sales Capacity. He or she will support Strategic Major Accounts. Travel to customer sites presenting Proof of Concepts; contribute in the design, planning, and implementation and training on the Extreme Networks architecture. We seek individuals who are dynamic, flexible and willing/able to work outside of their comfort zone.\\n  \\n \\n   Assist Pre-Sales team in the design, planning, and implementation of a Secure Network Solution Engineer\\n  \\n \\n   Provide consultative support for pre-sales, partners and customers on Extreme Networks Solutions\\n  \\n \\n   Present at trade shows, seminars, and oversee internal demonstration facilities, etc.\\n  \\n \\n   Prepare and deliver customer presentations to all levels of management\\n  \\n \\n   Provide educational training on leading edge technologies/Extreme Networks products to presales.\\n  \\n \\n   Effectively use Wi-Fi test and planning tools. I.e. Ekahau, AirMagnet, NetScout.\\n  \\n \\n   Travel and work the unique schedules in Strategic Major Accounts.\\n  \\n \\n   Work independently, coordinate and communicate with all cross functional groups\\n  \\n \\n  Requirements \\n \\n \\n   5+ years relevant experience\\n  \\n \\n   Expert in networking technologies with competitive Network industry and experience\\n  \\n \\n   Proven ability to effectively influence customer decisions and displace competition\\n  \\n \\n   Thorough knowledge of security design features and ability to implement and perform analysis of network and systems security design\\n  \\n \\n   Hands-on experience using network toolsets, for wired, wireless and security products.\\n  \\n \\n   Demonstrated skills in troubleshooting and problem resolution in a network environment\\n  \\n \\n   Keen ability to understand and analyze customer requirements and position the Extreme Networks Solutions effectively\\n  \\n \\n   Ability to effectively demonstrate Extreme Networks products and Solutions\\n  \\n \\n   Demonstrated ability to manage complex customer interactions in difficult circumstances and control customer expectations in order to maintain satisfied customers\\n  \\n \\n   Excellent inter-personal, technical presentation communication and proven team player\\n  \\n \\n   Ability and willingness to travel within region up to 60%\\n  \\n \\n   B.S. in Computer Science or related field, or equivalent work experience\\n  \\n \\n   Industry Wireless Certifications are encouraged. (CWTS®, CWNA®, CWDP®, CWAP®, etc.)\\n  \\n \\n  In depth knowledge of two or more of the following networking technologies \\n \\n \\n   Understanding of Network Access Control (NAC), Radius, 802.1x, Active Directory, LDAP, etc.\\n  \\n \\n   Security principles including: Firewalls, VPNs and Intrusion Prevention\\n  \\n \\n   Cloud technologies; AWS, Azure, GCP\\n  \\n \\n   Wireless, VPN, SDN, SaaS\\n  \\n \\n   Ipv4/v6 Routing Protocols (RIPv1/v2/v3, OSPFv2/v3, VRRP, MPLS, BGP, PIM, etc.)\\n  \\n \\n   Layer2 Switching (802.1Q, 802.1D, 801.x)\\n  \\n \\n \\n  Salary 200K on a 70/30 Split\\n  \\n \\n  Extreme Networks, Inc. (EXTR) creates effortless networking experiences that enable all of us to advance. We push the boundaries of technology leveraging the powers of machine learning, artificial intelligence, analytics, and automation. Over 50,000 customers globally trust our end-to-end, cloud-driven networking solutions and rely on our top-rated services and support to accelerate their digital transformation efforts and deliver progress like never before. For more information, visit Extreme's website or follow us on Twitter, LinkedIn, and Facebook.\\n  \\n \\n \\n  We encourage people from underrepresented groups to apply. Come Advance with us! In keeping with our values, no employee or applicant will face discrimination/harassment based on: race, color, ancestry, national origin, religion, age, gender, marital domestic partner status, sexual orientation, gender identity, disability status, or veteran status. Above and beyond discrimination/harassment based on “protected categories,” Extreme Networks also strives to prevent other, subtler forms of inappropriate behavior (e.g., stereotyping) from ever gaining a foothold in our organization. Whether blatant or hidden, barriers to success have no place at Extreme Networks.\",\n",
       "  ' ')]"
      ]
     },
     "execution_count": 36,
     "metadata": {},
     "output_type": "execute_result"
    }
   ],
   "source": [
    "[(x.strip(),\" \") for x in jobs_to_label[2].split(\"\\n\\n\") if x.strip() != \"\"]"
   ]
  },
  {
   "cell_type": "code",
   "execution_count": null,
   "metadata": {},
   "outputs": [],
   "source": []
  },
  {
   "cell_type": "markdown",
   "metadata": {},
   "source": [
    "### Second step is to featurize these labeled data"
   ]
  },
  {
   "cell_type": "code",
   "execution_count": null,
   "metadata": {},
   "outputs": [],
   "source": []
  },
  {
   "cell_type": "code",
   "execution_count": null,
   "metadata": {},
   "outputs": [],
   "source": []
  },
  {
   "cell_type": "code",
   "execution_count": 20,
   "metadata": {},
   "outputs": [],
   "source": [
    "api_key = os.getenv(\"openai_api_key\")\n",
    "example_text_1 = os.getenv(\"example_text_1\")\n",
    "example_text_2 = os.getenv(\"example_text_2\")"
   ]
  },
  {
   "cell_type": "code",
   "execution_count": 12,
   "metadata": {},
   "outputs": [],
   "source": [
    "# Originally from getTechs.py\n",
    "def get_techs(text):\n",
    "    response = openai.ChatCompletion.create(\n",
    "        model=\"gpt-3.5-turbo\",\n",
    "        messages=[\n",
    "            {\"role\":\"system\", \"content\":\"You identify specific technology names from job descriptions.  Respond only with a list of the names of the specific technologies.\"},\n",
    "            {\"role\":\"user\", \"content\":f\"Identify the specific technologies in the following text and respond with them in a list: {example_text_1}\"},\n",
    "            {\"role\":\"assistant\", \"content\":\"llama 2, python, pytorch\"},\n",
    "            {\"role\":\"user\", \"content\":f\"Identify the specific technologies in the following text: {example_text_2}\"},\n",
    "            {\"role\":\"assistant\", \"content\":\"python, spark, sql, snowflake, tableau, aws, azure, power bi\"},\n",
    "            {\"role\":\"user\", \"content\":f\"Identify the specific technologies in the following text: {text}\"}\n",
    "        ]\n",
    "    )\n",
    "    return response"
   ]
  },
  {
   "cell_type": "code",
   "execution_count": 9,
   "metadata": {},
   "outputs": [],
   "source": [
    "def dict_to_json(dict, filepath):\n",
    "    with open(filepath, \"w\") as out:\n",
    "        json.dump(dict, out)"
   ]
  },
  {
   "cell_type": "code",
   "execution_count": null,
   "metadata": {},
   "outputs": [],
   "source": [
    "# Originally from getTechs.py\n",
    "# Modified to remove counter, use to just get my spacy training data.\n",
    "\n",
    "### Does the original json file need to be closed?  I'm unsure how it works when renaming then dumping.  The new file is definitely closed as it's in the with open() command\n",
    "### Original file may not be? Think about and fix if necessary\n",
    "def print_attempt_number(retry_state):\n",
    "    print(f\"Retrying: {retry_state.attempt_number}...\")\n",
    "@retry(wait=wait_random_exponential(min=1, max=60), stop=stop_after_attempt(6), after=print_attempt_number)\n",
    "def get_tech_list(filepath):\n",
    "    f = open(filepath)\n",
    "    data = json.load(f)\n",
    "    for key in list(data.keys()):\n",
    "        job_desc = data[key]['desc']\n",
    "        response = get_techs(job_desc) # keep whole object in case I want metadata from it later\n",
    "        response_list = [x.lower() for x in response[\"choices\"][0][\"message\"][\"content\"].split(\", \")]\n",
    "        data[key]['techs'] = response_list \n",
    "    # dict_to_json originally from jobSearch.py, use to indicate which files have already been parsed\n",
    "    # Right now saves file separately, keeping original.  When done with testing will want it to overwrite.  Then it won't matter if the original is saved or not as we'll delete it anyways.\n",
    "    dict_to_json(data, f\"p-{filepath}\")  "
   ]
  },
  {
   "cell_type": "code",
   "execution_count": null,
   "metadata": {},
   "outputs": [],
   "source": [
    "# for filename in os.listdir(\"data\"):\n",
    "#     if filename.startswith(\"p-\"): #already been parsed\n",
    "#         continue\n",
    "#     else:\n",
    "#         filepath = fr\"data/{filename}\"\n",
    "#         get_tech_list(filename) # remember this saves the files separately, keeping the original for now.\n",
    "        "
   ]
  },
  {
   "cell_type": "markdown",
   "metadata": {},
   "source": [
    "Above will put the openai decided techs into a list in data[job_id]['techs'].  Can now use data itself for training spacy"
   ]
  },
  {
   "cell_type": "code",
   "execution_count": 28,
   "metadata": {},
   "outputs": [
    {
     "ename": "RetryError",
     "evalue": "RetryError[<Future at 0x1b20bea8af0 state=finished raised RateLimitError>]",
     "output_type": "error",
     "traceback": [
      "\u001b[1;31m---------------------------------------------------------------------------\u001b[0m",
      "\u001b[1;31mRateLimitError\u001b[0m                            Traceback (most recent call last)",
      "File \u001b[1;32mc:\\Users\\Zade\\Desktop\\PythonStuff\\jobReqs\\jobReqs\\.venv\\lib\\site-packages\\tenacity\\__init__.py:382\u001b[0m, in \u001b[0;36mRetrying.__call__\u001b[1;34m(self, fn, *args, **kwargs)\u001b[0m\n\u001b[0;32m    381\u001b[0m \u001b[39mtry\u001b[39;00m:\n\u001b[1;32m--> 382\u001b[0m     result \u001b[39m=\u001b[39m fn(\u001b[39m*\u001b[39margs, \u001b[39m*\u001b[39m\u001b[39m*\u001b[39mkwargs)\n\u001b[0;32m    383\u001b[0m \u001b[39mexcept\u001b[39;00m \u001b[39mBaseException\u001b[39;00m:  \u001b[39m# noqa: B902\u001b[39;00m\n",
      "\u001b[1;32mc:\\Users\\Zade\\Desktop\\PythonStuff\\jobReqs\\jobReqs\\trainspacy.ipynb Cell 11\u001b[0m line \u001b[0;36m1\n\u001b[0;32m     <a href='vscode-notebook-cell:/c%3A/Users/Zade/Desktop/PythonStuff/jobReqs/jobReqs/trainspacy.ipynb#X23sZmlsZQ%3D%3D?line=10'>11</a>\u001b[0m job_desc \u001b[39m=\u001b[39m data[key][\u001b[39m'\u001b[39m\u001b[39mdesc\u001b[39m\u001b[39m'\u001b[39m]\n\u001b[1;32m---> <a href='vscode-notebook-cell:/c%3A/Users/Zade/Desktop/PythonStuff/jobReqs/jobReqs/trainspacy.ipynb#X23sZmlsZQ%3D%3D?line=11'>12</a>\u001b[0m response \u001b[39m=\u001b[39m get_techs(job_desc) \u001b[39m# keep whole object in case I want metadata from it later\u001b[39;00m\n\u001b[0;32m     <a href='vscode-notebook-cell:/c%3A/Users/Zade/Desktop/PythonStuff/jobReqs/jobReqs/trainspacy.ipynb#X23sZmlsZQ%3D%3D?line=12'>13</a>\u001b[0m response_list \u001b[39m=\u001b[39m [x\u001b[39m.\u001b[39mlower() \u001b[39mfor\u001b[39;00m x \u001b[39min\u001b[39;00m response[\u001b[39m\"\u001b[39m\u001b[39mchoices\u001b[39m\u001b[39m\"\u001b[39m][\u001b[39m0\u001b[39m][\u001b[39m\"\u001b[39m\u001b[39mmessage\u001b[39m\u001b[39m\"\u001b[39m][\u001b[39m\"\u001b[39m\u001b[39mcontent\u001b[39m\u001b[39m\"\u001b[39m]\u001b[39m.\u001b[39msplit(\u001b[39m\"\u001b[39m\u001b[39m, \u001b[39m\u001b[39m\"\u001b[39m)]\n",
      "\u001b[1;32mc:\\Users\\Zade\\Desktop\\PythonStuff\\jobReqs\\jobReqs\\trainspacy.ipynb Cell 11\u001b[0m line \u001b[0;36m3\n\u001b[0;32m      <a href='vscode-notebook-cell:/c%3A/Users/Zade/Desktop/PythonStuff/jobReqs/jobReqs/trainspacy.ipynb#X23sZmlsZQ%3D%3D?line=1'>2</a>\u001b[0m \u001b[39mdef\u001b[39;00m \u001b[39mget_techs\u001b[39m(text):\n\u001b[1;32m----> <a href='vscode-notebook-cell:/c%3A/Users/Zade/Desktop/PythonStuff/jobReqs/jobReqs/trainspacy.ipynb#X23sZmlsZQ%3D%3D?line=2'>3</a>\u001b[0m     response \u001b[39m=\u001b[39m openai\u001b[39m.\u001b[39;49mChatCompletion\u001b[39m.\u001b[39;49mcreate(\n\u001b[0;32m      <a href='vscode-notebook-cell:/c%3A/Users/Zade/Desktop/PythonStuff/jobReqs/jobReqs/trainspacy.ipynb#X23sZmlsZQ%3D%3D?line=3'>4</a>\u001b[0m         model\u001b[39m=\u001b[39;49m\u001b[39m\"\u001b[39;49m\u001b[39mgpt-3.5-turbo\u001b[39;49m\u001b[39m\"\u001b[39;49m,\n\u001b[0;32m      <a href='vscode-notebook-cell:/c%3A/Users/Zade/Desktop/PythonStuff/jobReqs/jobReqs/trainspacy.ipynb#X23sZmlsZQ%3D%3D?line=4'>5</a>\u001b[0m         messages\u001b[39m=\u001b[39;49m[\n\u001b[0;32m      <a href='vscode-notebook-cell:/c%3A/Users/Zade/Desktop/PythonStuff/jobReqs/jobReqs/trainspacy.ipynb#X23sZmlsZQ%3D%3D?line=5'>6</a>\u001b[0m             {\u001b[39m\"\u001b[39;49m\u001b[39mrole\u001b[39;49m\u001b[39m\"\u001b[39;49m:\u001b[39m\"\u001b[39;49m\u001b[39msystem\u001b[39;49m\u001b[39m\"\u001b[39;49m, \u001b[39m\"\u001b[39;49m\u001b[39mcontent\u001b[39;49m\u001b[39m\"\u001b[39;49m:\u001b[39m\"\u001b[39;49m\u001b[39mYou identify specific technology names from job descriptions.  Respond only with a list of the names of the specific technologies.\u001b[39;49m\u001b[39m\"\u001b[39;49m},\n\u001b[0;32m      <a href='vscode-notebook-cell:/c%3A/Users/Zade/Desktop/PythonStuff/jobReqs/jobReqs/trainspacy.ipynb#X23sZmlsZQ%3D%3D?line=6'>7</a>\u001b[0m             {\u001b[39m\"\u001b[39;49m\u001b[39mrole\u001b[39;49m\u001b[39m\"\u001b[39;49m:\u001b[39m\"\u001b[39;49m\u001b[39muser\u001b[39;49m\u001b[39m\"\u001b[39;49m, \u001b[39m\"\u001b[39;49m\u001b[39mcontent\u001b[39;49m\u001b[39m\"\u001b[39;49m:\u001b[39mf\u001b[39;49m\u001b[39m\"\u001b[39;49m\u001b[39mIdentify the specific technologies in the following text and respond with them in a list: \u001b[39;49m\u001b[39m{\u001b[39;49;00mexample_text_1\u001b[39m}\u001b[39;49;00m\u001b[39m\"\u001b[39;49m},\n\u001b[0;32m      <a href='vscode-notebook-cell:/c%3A/Users/Zade/Desktop/PythonStuff/jobReqs/jobReqs/trainspacy.ipynb#X23sZmlsZQ%3D%3D?line=7'>8</a>\u001b[0m             {\u001b[39m\"\u001b[39;49m\u001b[39mrole\u001b[39;49m\u001b[39m\"\u001b[39;49m:\u001b[39m\"\u001b[39;49m\u001b[39massistant\u001b[39;49m\u001b[39m\"\u001b[39;49m, \u001b[39m\"\u001b[39;49m\u001b[39mcontent\u001b[39;49m\u001b[39m\"\u001b[39;49m:\u001b[39m\"\u001b[39;49m\u001b[39mllama 2, python, pytorch\u001b[39;49m\u001b[39m\"\u001b[39;49m},\n\u001b[0;32m      <a href='vscode-notebook-cell:/c%3A/Users/Zade/Desktop/PythonStuff/jobReqs/jobReqs/trainspacy.ipynb#X23sZmlsZQ%3D%3D?line=8'>9</a>\u001b[0m             {\u001b[39m\"\u001b[39;49m\u001b[39mrole\u001b[39;49m\u001b[39m\"\u001b[39;49m:\u001b[39m\"\u001b[39;49m\u001b[39muser\u001b[39;49m\u001b[39m\"\u001b[39;49m, \u001b[39m\"\u001b[39;49m\u001b[39mcontent\u001b[39;49m\u001b[39m\"\u001b[39;49m:\u001b[39mf\u001b[39;49m\u001b[39m\"\u001b[39;49m\u001b[39mIdentify the specific technologies in the following text: \u001b[39;49m\u001b[39m{\u001b[39;49;00mexample_text_2\u001b[39m}\u001b[39;49;00m\u001b[39m\"\u001b[39;49m},\n\u001b[0;32m     <a href='vscode-notebook-cell:/c%3A/Users/Zade/Desktop/PythonStuff/jobReqs/jobReqs/trainspacy.ipynb#X23sZmlsZQ%3D%3D?line=9'>10</a>\u001b[0m             {\u001b[39m\"\u001b[39;49m\u001b[39mrole\u001b[39;49m\u001b[39m\"\u001b[39;49m:\u001b[39m\"\u001b[39;49m\u001b[39massistant\u001b[39;49m\u001b[39m\"\u001b[39;49m, \u001b[39m\"\u001b[39;49m\u001b[39mcontent\u001b[39;49m\u001b[39m\"\u001b[39;49m:\u001b[39m\"\u001b[39;49m\u001b[39mpython, spark, sql, snowflake, tableau, aws, azure, power bi\u001b[39;49m\u001b[39m\"\u001b[39;49m},\n\u001b[0;32m     <a href='vscode-notebook-cell:/c%3A/Users/Zade/Desktop/PythonStuff/jobReqs/jobReqs/trainspacy.ipynb#X23sZmlsZQ%3D%3D?line=10'>11</a>\u001b[0m             {\u001b[39m\"\u001b[39;49m\u001b[39mrole\u001b[39;49m\u001b[39m\"\u001b[39;49m:\u001b[39m\"\u001b[39;49m\u001b[39muser\u001b[39;49m\u001b[39m\"\u001b[39;49m, \u001b[39m\"\u001b[39;49m\u001b[39mcontent\u001b[39;49m\u001b[39m\"\u001b[39;49m:\u001b[39mf\u001b[39;49m\u001b[39m\"\u001b[39;49m\u001b[39mIdentify the specific technologies in the following text: \u001b[39;49m\u001b[39m{\u001b[39;49;00mtext\u001b[39m}\u001b[39;49;00m\u001b[39m\"\u001b[39;49m}\n\u001b[0;32m     <a href='vscode-notebook-cell:/c%3A/Users/Zade/Desktop/PythonStuff/jobReqs/jobReqs/trainspacy.ipynb#X23sZmlsZQ%3D%3D?line=11'>12</a>\u001b[0m         ]\n\u001b[0;32m     <a href='vscode-notebook-cell:/c%3A/Users/Zade/Desktop/PythonStuff/jobReqs/jobReqs/trainspacy.ipynb#X23sZmlsZQ%3D%3D?line=12'>13</a>\u001b[0m     )\n\u001b[0;32m     <a href='vscode-notebook-cell:/c%3A/Users/Zade/Desktop/PythonStuff/jobReqs/jobReqs/trainspacy.ipynb#X23sZmlsZQ%3D%3D?line=13'>14</a>\u001b[0m     \u001b[39mreturn\u001b[39;00m response\n",
      "File \u001b[1;32mc:\\Users\\Zade\\Desktop\\PythonStuff\\jobReqs\\jobReqs\\.venv\\lib\\site-packages\\openai\\api_resources\\chat_completion.py:25\u001b[0m, in \u001b[0;36mChatCompletion.create\u001b[1;34m(cls, *args, **kwargs)\u001b[0m\n\u001b[0;32m     24\u001b[0m \u001b[39mtry\u001b[39;00m:\n\u001b[1;32m---> 25\u001b[0m     \u001b[39mreturn\u001b[39;00m \u001b[39msuper\u001b[39m()\u001b[39m.\u001b[39mcreate(\u001b[39m*\u001b[39margs, \u001b[39m*\u001b[39m\u001b[39m*\u001b[39mkwargs)\n\u001b[0;32m     26\u001b[0m \u001b[39mexcept\u001b[39;00m TryAgain \u001b[39mas\u001b[39;00m e:\n",
      "File \u001b[1;32mc:\\Users\\Zade\\Desktop\\PythonStuff\\jobReqs\\jobReqs\\.venv\\lib\\site-packages\\openai\\api_resources\\abstract\\engine_api_resource.py:153\u001b[0m, in \u001b[0;36mEngineAPIResource.create\u001b[1;34m(cls, api_key, api_base, api_type, request_id, api_version, organization, **params)\u001b[0m\n\u001b[0;32m    138\u001b[0m (\n\u001b[0;32m    139\u001b[0m     deployment_id,\n\u001b[0;32m    140\u001b[0m     engine,\n\u001b[1;32m   (...)\u001b[0m\n\u001b[0;32m    150\u001b[0m     api_key, api_base, api_type, api_version, organization, \u001b[39m*\u001b[39m\u001b[39m*\u001b[39mparams\n\u001b[0;32m    151\u001b[0m )\n\u001b[1;32m--> 153\u001b[0m response, _, api_key \u001b[39m=\u001b[39m requestor\u001b[39m.\u001b[39;49mrequest(\n\u001b[0;32m    154\u001b[0m     \u001b[39m\"\u001b[39;49m\u001b[39mpost\u001b[39;49m\u001b[39m\"\u001b[39;49m,\n\u001b[0;32m    155\u001b[0m     url,\n\u001b[0;32m    156\u001b[0m     params\u001b[39m=\u001b[39;49mparams,\n\u001b[0;32m    157\u001b[0m     headers\u001b[39m=\u001b[39;49mheaders,\n\u001b[0;32m    158\u001b[0m     stream\u001b[39m=\u001b[39;49mstream,\n\u001b[0;32m    159\u001b[0m     request_id\u001b[39m=\u001b[39;49mrequest_id,\n\u001b[0;32m    160\u001b[0m     request_timeout\u001b[39m=\u001b[39;49mrequest_timeout,\n\u001b[0;32m    161\u001b[0m )\n\u001b[0;32m    163\u001b[0m \u001b[39mif\u001b[39;00m stream:\n\u001b[0;32m    164\u001b[0m     \u001b[39m# must be an iterator\u001b[39;00m\n",
      "File \u001b[1;32mc:\\Users\\Zade\\Desktop\\PythonStuff\\jobReqs\\jobReqs\\.venv\\lib\\site-packages\\openai\\api_requestor.py:298\u001b[0m, in \u001b[0;36mAPIRequestor.request\u001b[1;34m(self, method, url, params, headers, files, stream, request_id, request_timeout)\u001b[0m\n\u001b[0;32m    288\u001b[0m result \u001b[39m=\u001b[39m \u001b[39mself\u001b[39m\u001b[39m.\u001b[39mrequest_raw(\n\u001b[0;32m    289\u001b[0m     method\u001b[39m.\u001b[39mlower(),\n\u001b[0;32m    290\u001b[0m     url,\n\u001b[1;32m   (...)\u001b[0m\n\u001b[0;32m    296\u001b[0m     request_timeout\u001b[39m=\u001b[39mrequest_timeout,\n\u001b[0;32m    297\u001b[0m )\n\u001b[1;32m--> 298\u001b[0m resp, got_stream \u001b[39m=\u001b[39m \u001b[39mself\u001b[39;49m\u001b[39m.\u001b[39;49m_interpret_response(result, stream)\n\u001b[0;32m    299\u001b[0m \u001b[39mreturn\u001b[39;00m resp, got_stream, \u001b[39mself\u001b[39m\u001b[39m.\u001b[39mapi_key\n",
      "File \u001b[1;32mc:\\Users\\Zade\\Desktop\\PythonStuff\\jobReqs\\jobReqs\\.venv\\lib\\site-packages\\openai\\api_requestor.py:700\u001b[0m, in \u001b[0;36mAPIRequestor._interpret_response\u001b[1;34m(self, result, stream)\u001b[0m\n\u001b[0;32m    698\u001b[0m \u001b[39melse\u001b[39;00m:\n\u001b[0;32m    699\u001b[0m     \u001b[39mreturn\u001b[39;00m (\n\u001b[1;32m--> 700\u001b[0m         \u001b[39mself\u001b[39;49m\u001b[39m.\u001b[39;49m_interpret_response_line(\n\u001b[0;32m    701\u001b[0m             result\u001b[39m.\u001b[39;49mcontent\u001b[39m.\u001b[39;49mdecode(\u001b[39m\"\u001b[39;49m\u001b[39mutf-8\u001b[39;49m\u001b[39m\"\u001b[39;49m),\n\u001b[0;32m    702\u001b[0m             result\u001b[39m.\u001b[39;49mstatus_code,\n\u001b[0;32m    703\u001b[0m             result\u001b[39m.\u001b[39;49mheaders,\n\u001b[0;32m    704\u001b[0m             stream\u001b[39m=\u001b[39;49m\u001b[39mFalse\u001b[39;49;00m,\n\u001b[0;32m    705\u001b[0m         ),\n\u001b[0;32m    706\u001b[0m         \u001b[39mFalse\u001b[39;00m,\n\u001b[0;32m    707\u001b[0m     )\n",
      "File \u001b[1;32mc:\\Users\\Zade\\Desktop\\PythonStuff\\jobReqs\\jobReqs\\.venv\\lib\\site-packages\\openai\\api_requestor.py:765\u001b[0m, in \u001b[0;36mAPIRequestor._interpret_response_line\u001b[1;34m(self, rbody, rcode, rheaders, stream)\u001b[0m\n\u001b[0;32m    764\u001b[0m \u001b[39mif\u001b[39;00m stream_error \u001b[39mor\u001b[39;00m \u001b[39mnot\u001b[39;00m \u001b[39m200\u001b[39m \u001b[39m<\u001b[39m\u001b[39m=\u001b[39m rcode \u001b[39m<\u001b[39m \u001b[39m300\u001b[39m:\n\u001b[1;32m--> 765\u001b[0m     \u001b[39mraise\u001b[39;00m \u001b[39mself\u001b[39m\u001b[39m.\u001b[39mhandle_error_response(\n\u001b[0;32m    766\u001b[0m         rbody, rcode, resp\u001b[39m.\u001b[39mdata, rheaders, stream_error\u001b[39m=\u001b[39mstream_error\n\u001b[0;32m    767\u001b[0m     )\n\u001b[0;32m    768\u001b[0m \u001b[39mreturn\u001b[39;00m resp\n",
      "\u001b[1;31mRateLimitError\u001b[0m: Rate limit reached for default-gpt-3.5-turbo in organization org-H77pLY0lAaZjBOoJznR3V5AN on tokens per min. Limit: 90000 / min. Current: 86754 / min. Contact us through our help center at help.openai.com if you continue to have issues.",
      "\nThe above exception was the direct cause of the following exception:\n",
      "\u001b[1;31mRetryError\u001b[0m                                Traceback (most recent call last)",
      "\u001b[1;32mc:\\Users\\Zade\\Desktop\\PythonStuff\\jobReqs\\jobReqs\\trainspacy.ipynb Cell 11\u001b[0m line \u001b[0;36m4\n\u001b[0;32m      <a href='vscode-notebook-cell:/c%3A/Users/Zade/Desktop/PythonStuff/jobReqs/jobReqs/trainspacy.ipynb#X23sZmlsZQ%3D%3D?line=0'>1</a>\u001b[0m \u001b[39m# Test with only the first json now\u001b[39;00m\n\u001b[0;32m      <a href='vscode-notebook-cell:/c%3A/Users/Zade/Desktop/PythonStuff/jobReqs/jobReqs/trainspacy.ipynb#X23sZmlsZQ%3D%3D?line=1'>2</a>\u001b[0m \u001b[39m# Hit error with rate limits on openai api\u001b[39;00m\n\u001b[0;32m      <a href='vscode-notebook-cell:/c%3A/Users/Zade/Desktop/PythonStuff/jobReqs/jobReqs/trainspacy.ipynb#X23sZmlsZQ%3D%3D?line=2'>3</a>\u001b[0m \u001b[39m# https://platform.openai.com/docs/guides/rate-limits/error-mitigation\u001b[39;00m\n\u001b[1;32m----> <a href='vscode-notebook-cell:/c%3A/Users/Zade/Desktop/PythonStuff/jobReqs/jobReqs/trainspacy.ipynb#X23sZmlsZQ%3D%3D?line=3'>4</a>\u001b[0m get_tech_list(\u001b[39mfr\u001b[39;49m\u001b[39m\"\u001b[39;49m\u001b[39mdata/07-09-23-q-data+science-data+analysis-data+engineer-mle-machine+learning-mlops-l-remote.json\u001b[39;49m\u001b[39m\"\u001b[39;49m)\n",
      "File \u001b[1;32mc:\\Users\\Zade\\Desktop\\PythonStuff\\jobReqs\\jobReqs\\.venv\\lib\\site-packages\\tenacity\\__init__.py:289\u001b[0m, in \u001b[0;36mBaseRetrying.wraps.<locals>.wrapped_f\u001b[1;34m(*args, **kw)\u001b[0m\n\u001b[0;32m    287\u001b[0m \u001b[39m@functools\u001b[39m\u001b[39m.\u001b[39mwraps(f)\n\u001b[0;32m    288\u001b[0m \u001b[39mdef\u001b[39;00m \u001b[39mwrapped_f\u001b[39m(\u001b[39m*\u001b[39margs: t\u001b[39m.\u001b[39mAny, \u001b[39m*\u001b[39m\u001b[39m*\u001b[39mkw: t\u001b[39m.\u001b[39mAny) \u001b[39m-\u001b[39m\u001b[39m>\u001b[39m t\u001b[39m.\u001b[39mAny:\n\u001b[1;32m--> 289\u001b[0m     \u001b[39mreturn\u001b[39;00m \u001b[39mself\u001b[39m(f, \u001b[39m*\u001b[39margs, \u001b[39m*\u001b[39m\u001b[39m*\u001b[39mkw)\n",
      "File \u001b[1;32mc:\\Users\\Zade\\Desktop\\PythonStuff\\jobReqs\\jobReqs\\.venv\\lib\\site-packages\\tenacity\\__init__.py:379\u001b[0m, in \u001b[0;36mRetrying.__call__\u001b[1;34m(self, fn, *args, **kwargs)\u001b[0m\n\u001b[0;32m    377\u001b[0m retry_state \u001b[39m=\u001b[39m RetryCallState(retry_object\u001b[39m=\u001b[39m\u001b[39mself\u001b[39m, fn\u001b[39m=\u001b[39mfn, args\u001b[39m=\u001b[39margs, kwargs\u001b[39m=\u001b[39mkwargs)\n\u001b[0;32m    378\u001b[0m \u001b[39mwhile\u001b[39;00m \u001b[39mTrue\u001b[39;00m:\n\u001b[1;32m--> 379\u001b[0m     do \u001b[39m=\u001b[39m \u001b[39mself\u001b[39;49m\u001b[39m.\u001b[39;49miter(retry_state\u001b[39m=\u001b[39;49mretry_state)\n\u001b[0;32m    380\u001b[0m     \u001b[39mif\u001b[39;00m \u001b[39misinstance\u001b[39m(do, DoAttempt):\n\u001b[0;32m    381\u001b[0m         \u001b[39mtry\u001b[39;00m:\n",
      "File \u001b[1;32mc:\\Users\\Zade\\Desktop\\PythonStuff\\jobReqs\\jobReqs\\.venv\\lib\\site-packages\\tenacity\\__init__.py:326\u001b[0m, in \u001b[0;36mBaseRetrying.iter\u001b[1;34m(self, retry_state)\u001b[0m\n\u001b[0;32m    324\u001b[0m     \u001b[39mif\u001b[39;00m \u001b[39mself\u001b[39m\u001b[39m.\u001b[39mreraise:\n\u001b[0;32m    325\u001b[0m         \u001b[39mraise\u001b[39;00m retry_exc\u001b[39m.\u001b[39mreraise()\n\u001b[1;32m--> 326\u001b[0m     \u001b[39mraise\u001b[39;00m retry_exc \u001b[39mfrom\u001b[39;00m \u001b[39mfut\u001b[39;00m\u001b[39m.\u001b[39;00m\u001b[39mexception\u001b[39;00m()\n\u001b[0;32m    328\u001b[0m \u001b[39mif\u001b[39;00m \u001b[39mself\u001b[39m\u001b[39m.\u001b[39mwait:\n\u001b[0;32m    329\u001b[0m     sleep \u001b[39m=\u001b[39m \u001b[39mself\u001b[39m\u001b[39m.\u001b[39mwait(retry_state)\n",
      "\u001b[1;31mRetryError\u001b[0m: RetryError[<Future at 0x1b20bea8af0 state=finished raised RateLimitError>]"
     ]
    }
   ],
   "source": [
    "# Test with only the first json now\n",
    "# Hit error with rate limits on openai api\n",
    "# https://platform.openai.com/docs/guides/rate-limits/error-mitigation\n",
    "get_tech_list(fr\"data/07-09-23-q-data+science-data+analysis-data+engineer-mle-machine+learning-mlops-l-remote.json\")"
   ]
  },
  {
   "cell_type": "code",
   "execution_count": null,
   "metadata": {},
   "outputs": [],
   "source": []
  }
 ],
 "metadata": {
  "kernelspec": {
   "display_name": ".venv",
   "language": "python",
   "name": "python3"
  },
  "language_info": {
   "codemirror_mode": {
    "name": "ipython",
    "version": 3
   },
   "file_extension": ".py",
   "mimetype": "text/x-python",
   "name": "python",
   "nbconvert_exporter": "python",
   "pygments_lexer": "ipython3",
   "version": "3.9.16"
  },
  "orig_nbformat": 4
 },
 "nbformat": 4,
 "nbformat_minor": 2
}
