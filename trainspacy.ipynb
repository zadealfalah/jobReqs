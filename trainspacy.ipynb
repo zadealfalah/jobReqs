{
 "cells": [
  {
   "cell_type": "code",
   "execution_count": 47,
   "metadata": {},
   "outputs": [],
   "source": [
    "import spacy\n",
    "import openai\n",
    "import json\n",
    "import os\n",
    "from dotenv import load_dotenv\n",
    "from tenacity import retry, stop_after_attempt, wait_random_exponential\n",
    "from random import sample, seed"
   ]
  },
  {
   "cell_type": "code",
   "execution_count": 4,
   "metadata": {},
   "outputs": [],
   "source": [
    "nlp = spacy.load(\"en_core_web_sm\")"
   ]
  },
  {
   "cell_type": "code",
   "execution_count": 6,
   "metadata": {},
   "outputs": [
    {
     "data": {
      "text/plain": [
       "1"
      ]
     },
     "execution_count": 6,
     "metadata": {},
     "output_type": "execute_result"
    }
   ],
   "source": [
    "custom_ner = nlp.add_pipe(\"ner\", name=\"custom_ner\")\n",
    "custom_ner.add_label(\"TECHNOLOGY\")"
   ]
  },
  {
   "cell_type": "code",
   "execution_count": 19,
   "metadata": {},
   "outputs": [
    {
     "data": {
      "text/plain": [
       "True"
      ]
     },
     "execution_count": 19,
     "metadata": {},
     "output_type": "execute_result"
    }
   ],
   "source": [
    "load_dotenv()"
   ]
  },
  {
   "cell_type": "markdown",
   "metadata": {},
   "source": [
    "## Before putting anything in to the openai api\n",
    "Set up a binary classifier to identify if a given paragraph has any relevance to the task.  I.e. if it contains any technologies/skills that I might want to take out.  \n",
    "### First step is to grab a bunch of paragraphs from job descriptions, label a few hundred as relevant or not."
   ]
  },
  {
   "cell_type": "code",
   "execution_count": 29,
   "metadata": {},
   "outputs": [],
   "source": [
    "job_desc_list = []\n",
    "f = open(fr\"data/07-09-23-q-data+science-data+analysis-data+engineer-mle-machine+learning-mlops-l-remote.json\")\n",
    "data = json.load(f)\n",
    "for key in list(data.keys()):\n",
    "    job_desc_list.append(data[key]['desc'])"
   ]
  },
  {
   "cell_type": "code",
   "execution_count": 36,
   "metadata": {},
   "outputs": [
    {
     "data": {
      "text/plain": [
       "260.0"
      ]
     },
     "execution_count": 36,
     "metadata": {},
     "output_type": "execute_result"
    }
   ],
   "source": [
    "len(job_desc_list)/2"
   ]
  },
  {
   "cell_type": "code",
   "execution_count": 65,
   "metadata": {},
   "outputs": [],
   "source": [
    "#520 jobs in total here, randomly sample half of them to label. set seed for reproducability\n",
    "seed(10) \n",
    "jobs_to_label = sample(job_desc_list, int(len(job_desc_list)/2))"
   ]
  },
  {
   "cell_type": "code",
   "execution_count": 71,
   "metadata": {},
   "outputs": [
    {
     "data": {
      "text/plain": [
       "'Remote \\n \\n \\n Rhino is looking for team members who believe that renters deserve greater financial freedom when moving into a home, and that property owners shouldn’t have to stick to the status quo. With over $45 billion tied up in security deposits for 110 million renters in the United States alone, we built nationally recognized technology-driven products to help bring renting into the 21st century. Our solutions help property owners manage their deposits end-to-end, and renters can choose between security deposit insurance or a traditional cash deposit, in addition to renter’s insurance. \\n  Rhino’s remote-first culture is driven by our five core values: own your role, raise the bar, be customer obsessed, just be kind, and commit to the Crash (a Crash is a group of Rhinos!). These values help guide us to do our best work and attract talent that helps us achieve our key goals. Our ideal candidate is someone who has worked in a fast-paced, ever-evolving tech environment, and isn’t afraid to roll up their sleeves and jump right in. \\n  We’ve already saved over a billion dollars for renters and are trusted in over 2 million homes nationwide, and most importantly, we’re just getting started. \\n  As a Director of Data and Analytics at Rhino, you’ll lead a team passionate about data and you’ll bring a clear vision of how data and analytics can transform our company strategy. \\n  In this role you will: \\n \\n Facilitate the establishment and execution of the roadmap for data and analytics, supporting the overall strategy set by our product roadmap \\n Drive the scope and effectiveness of the data and analytics function \\n Lead a team of analysts and data scientists to deliver the solutions that fulfill business information needs and align with company goals \\n Collaborate with all functions of the company to ensure data needs are addressed and the required data is modeled and available to analysts and end-users \\n Provide advice, guidance, and direction to carry out business goals \\n Balance short term and long term needs to ensure that the architecture can scale and evolve accordingly \\n Scale and expand our analytics offerings, skills and technologies \\n \\n We’re ideally seeking: \\n \\n Minimum 5-7+ years of direct management experience, overseeing a high-performing team \\n Experience leading a data analytics and/ or data science function as both an individual contributor or people leader \\n Familiarity with the following tech stack requirements: SQL, Python, Tableau \\n Applied knowledge of measurement, statistics and program evaluation \\n Strong communicator, both written and verbal \\n Experience working with multiple executive level business stakeholders \\n Passionate about data and wants to build and implement best practices \\n Exceptional problem-solving skills, ability to work comfortably and collaboratively in a cross-functional setting \\n Strong project management skills. Ability to set priorities and consistently deliver under ambiguity \\n Operates with optimism and understands how to motivate a high performing team \\n Strong manager with focus on career and professional development for team members \\n \\n Feel you partially or mostly meet the requirements? \\n  At Rhino, we’re not looking for someone that will check every box. In fact, if we were, we’d miss out on some extremely talented and capable people. Research has shown, in particular, that women and other marginalized groups apply for jobs when they check every box. So, if you find yourself on the fence because you don’t meet every requirement, please apply anyway! We’d love to meet and discuss the opportunity, your skills and passions, and see if we could be a match! \\n  Compensation & Benefits \\n  Base Salary Range: $170,000 - $210,000 \\n  Rhino has partnered with a number of compensation benchmarking tools to determine competitive and fair market pay bands for our size and stage. Our goal is to ensure each employee is paid equitably and competitively while also maintaining a consistent and standardized methodology. \\n  Individual pay decisions are based on a number of factors including qualifications for the role, experience level and balancing internal equity relative to other Rhinos. \\n  Base salary is just one part of our Total Rewards Package here at Rhino. In connection with this position, we also offer: \\n \\n Competitive cash compensation package including base salary, performance bonus, and other financial perks \\n Medical, Dental, and Vision coverage (90% employer contribution) - eligible from your start date \\n Unlimited PTO Policy, quarterly team recharge days focused on mental and physical wellness \\n Generous Paid Parental Leave \\n Stock option plan to give our employees a direct stake in Rhino’s success \\n Bi-annual performance reviews and ongoing professional coaching and development opportunities with external partners \\n Remote-first work culture with opportunities to collaborate as a team in person \\n Opportunities to participate in ongoing diversity, inclusion and equity programming or join an ERG \\n 401(k), HSA, Life & Disability Insurance Coverage ($0 employee contribution for additional insurances) \\n Monthly lifestyle stipend to fit your needs (meals, wellness, co-working) \\n \\n \\n \\n \\n Rhino is committed to the principle of equal employment opportunity for all employees, and to providing employees with a work environment free of discrimination and harassment. All employment decisions at Rhino are without regard to race, color, age, religion or belief, sexual orientation, family or parental status, or any other status protected by the laws or regulations in the locations where we operate. Rhino has a zero-tolerance policy against discrimination or harassment based on any of these characteristics. This includes recruitment, hiring, promotions, transfers, discipline, terminations, wage and salary administration, benefits, and training.'"
      ]
     },
     "execution_count": 71,
     "metadata": {},
     "output_type": "execute_result"
    }
   ],
   "source": [
    "jobs_to_label[3]"
   ]
  },
  {
   "cell_type": "code",
   "execution_count": 67,
   "metadata": {},
   "outputs": [
    {
     "data": {
      "text/plain": [
       "[('A career in our Finance team, within our Oracle consulting practice, will provide you with the opportunity to help organizations use enterprise technology to achieve their digital technology goals and capitalise on business opportunities. We help our clients implement and effectively use Oracle offerings to solve their business problems and fuel success in the areas of finance, operations, human capital, customer, and governance, risk and compliance. As part of our finance team, you’ll focus on providing the support companies need in their Finance Transformation journey enabled by Oracle Cloud ERP and EPM. You will be part of a team that helps clients rethink their Finance functions as they leverage new Cloud technology including RPA, Machine Learning and Analytics in conjunction with their ERP platform. You will bring a blend of process and technology expertise to create the next generation Finance function.',\n",
       "  ' '),\n",
       " ('To really stand out and make us fit for the future in a constantly changing world, each and every one of us at PwC needs to be a purpose-led and values-driven leader at every level. To help us achieve this we have the PwC Professional; our global leadership development framework. It gives us a single set of expectations across our lines, geographies and career paths, and provides transparency on the skills we need as individuals to be successful and progress in our careers, now and in the future.',\n",
       "  ' '),\n",
       " (\"As a Senior Manager, you'll work as part of a team of problem solvers, helping to solve complex business issues from strategy to execution. PwC Professional skills and responsibilities for this management level include but are not limited to:\",\n",
       "  ' '),\n",
       " ('Encourage everyone to have a voice and invite opinion from all, including quieter members of the team.',\n",
       "  ' '),\n",
       " ('Deal effectively with ambiguous and unstructured problems and situations.',\n",
       "  ' '),\n",
       " ('Initiate open and candid coaching conversations at all levels.', ' '),\n",
       " ('Move easily between big picture thinking and managing relevant detail.',\n",
       "  ' '),\n",
       " ('Anticipate stakeholder needs, and develop and discuss potential solutions, even before the stakeholder realises they are required.',\n",
       "  ' '),\n",
       " ('Contribute technical knowledge in area of specialism.', ' '),\n",
       " ('Contribute to an environment where people and technology thrive together to accomplish more than they could apart.',\n",
       "  ' '),\n",
       " ('Navigate the complexities of cross-border and/or diverse teams and engagements.',\n",
       "  ' '),\n",
       " ('Initiate and lead open conversations with teams, clients and stakeholders to build trust.',\n",
       "  ' '),\n",
       " (\"Uphold the firm's code of ethics and business conduct.\", ' '),\n",
       " ('Job Requirements and Preferences :     Basic Qualifications :     Minimum Degree Required :  Bachelor Degree     Minimum Years of Experience :  7 year(s)     Preferred Qualifications :     Preferred Knowledge/Skills :',\n",
       "  ' '),\n",
       " ('Demonstrates proven intimate knowledge of Oracle Cloud application based solutions, including the following:',\n",
       "  ' '),\n",
       " ('Successfully completing at least 1-3 full life-cycle implementations, assisting clients in the implementation and/or support of Oracle packaged solutions leading significant tracks on larger projects, leading medium sized consulting engagements, and/or leading production support efforts;',\n",
       "  ' '),\n",
       " ('Intimate functional and technical knowledge and understanding of the Oracle Cloud product suite; and,',\n",
       "  ' '),\n",
       " ('Intimate business process knowledge associated with the different Oracle Cloud Financials modules e.g., payment process, matching process, month-end close, etc.',\n",
       "  ' '),\n",
       " ('Demonstrates proven intimate abilities with managing Oracle Cloud product suite leading on-shore and off-shore resources, especially with the following:',\n",
       "  ' '),\n",
       " ('Designing, implementing and supporting complex business processes in an Oracle environment;',\n",
       "  ' '),\n",
       " ('Understanding the importance of a structured, controlled production systems environment; and,',\n",
       "  ' '),\n",
       " ('Developing strategy; as well as writing, communicating, facilitating, and presenting cogently to and/or for all levels of industry audiences, clients and internal staff and management.',\n",
       "  ' '),\n",
       " ('Demonstrates intimate abilities and/or a proven record of success as a team leader by:',\n",
       "  ' '),\n",
       " ('Creating a positive environment by monitoring workloads of the team while meeting client expectations and respecting the work-life quality of team members; and,',\n",
       "  ' '),\n",
       " ('Providing candid, meaningful feedback in a timely manner.', ' '),\n",
       " ('Keeping leadership informed of progress and issues.', ' '),\n",
       " ('Learn more about how we work: https://pwc.to/how-we-work', ' '),\n",
       " ('PwC does not intend to hire experienced or entry level job seekers who will need, now or in the future, PwC sponsorship through the H-1B lottery, except as set forth within the following policy: https://pwc.to/H-1B-Lottery-Policy.',\n",
       "  ' '),\n",
       " ('All qualified applicants will receive consideration for employment at PwC without regard to race; creed; color; religion; national origin; sex; age; disability; sexual orientation; gender identity or expression; genetic predisposition or carrier status; veteran, marital, or citizenship status; or any other status protected by law. PwC is proud to be an affirmative action and equal opportunity employer.',\n",
       "  ' '),\n",
       " ('For positions based in San Francisco, consideration of qualified candidates with arrest and conviction records will be in a manner consistent with the San Francisco Fair Chance Ordinance.',\n",
       "  ' '),\n",
       " ('For positions in Albany (NY), California, Colorado, Nevada, New York City, Washington State, or Westchester County (NY), please visit the following link for pay range information: https://pwc.to/payrange-v1-advisoryseniormanager',\n",
       "  ' '),\n",
       " ('#LI-Remote', ' ')]"
      ]
     },
     "execution_count": 67,
     "metadata": {},
     "output_type": "execute_result"
    }
   ],
   "source": [
    "[(x.strip(),\" \") for x in jobs_to_label[2].splitlines() if x.strip() != \"\"]"
   ]
  },
  {
   "cell_type": "code",
   "execution_count": null,
   "metadata": {},
   "outputs": [],
   "source": []
  },
  {
   "cell_type": "markdown",
   "metadata": {},
   "source": [
    "### Second step is to featurize these labeled data"
   ]
  },
  {
   "cell_type": "code",
   "execution_count": null,
   "metadata": {},
   "outputs": [],
   "source": []
  },
  {
   "cell_type": "code",
   "execution_count": null,
   "metadata": {},
   "outputs": [],
   "source": []
  },
  {
   "cell_type": "code",
   "execution_count": 20,
   "metadata": {},
   "outputs": [],
   "source": [
    "api_key = os.getenv(\"openai_api_key\")\n",
    "example_text_1 = os.getenv(\"example_text_1\")\n",
    "example_text_2 = os.getenv(\"example_text_2\")"
   ]
  },
  {
   "cell_type": "code",
   "execution_count": 12,
   "metadata": {},
   "outputs": [],
   "source": [
    "# Originally from getTechs.py\n",
    "def get_techs(text):\n",
    "    response = openai.ChatCompletion.create(\n",
    "        model=\"gpt-3.5-turbo\",\n",
    "        messages=[\n",
    "            {\"role\":\"system\", \"content\":\"You identify specific technology names from job descriptions.  Respond only with a list of the names of the specific technologies.\"},\n",
    "            {\"role\":\"user\", \"content\":f\"Identify the specific technologies in the following text and respond with them in a list: {example_text_1}\"},\n",
    "            {\"role\":\"assistant\", \"content\":\"llama 2, python, pytorch\"},\n",
    "            {\"role\":\"user\", \"content\":f\"Identify the specific technologies in the following text: {example_text_2}\"},\n",
    "            {\"role\":\"assistant\", \"content\":\"python, spark, sql, snowflake, tableau, aws, azure, power bi\"},\n",
    "            {\"role\":\"user\", \"content\":f\"Identify the specific technologies in the following text: {text}\"}\n",
    "        ]\n",
    "    )\n",
    "    return response"
   ]
  },
  {
   "cell_type": "code",
   "execution_count": 9,
   "metadata": {},
   "outputs": [],
   "source": [
    "def dict_to_json(dict, filepath):\n",
    "    with open(filepath, \"w\") as out:\n",
    "        json.dump(dict, out)"
   ]
  },
  {
   "cell_type": "code",
   "execution_count": null,
   "metadata": {},
   "outputs": [],
   "source": [
    "# Originally from getTechs.py\n",
    "# Modified to remove counter, use to just get my spacy training data.\n",
    "\n",
    "### Does the original json file need to be closed?  I'm unsure how it works when renaming then dumping.  The new file is definitely closed as it's in the with open() command\n",
    "### Original file may not be? Think about and fix if necessary\n",
    "def print_attempt_number(retry_state):\n",
    "    print(f\"Retrying: {retry_state.attempt_number}...\")\n",
    "@retry(wait=wait_random_exponential(min=1, max=60), stop=stop_after_attempt(6), after=print_attempt_number)\n",
    "def get_tech_list(filepath):\n",
    "    f = open(filepath)\n",
    "    data = json.load(f)\n",
    "    for key in list(data.keys()):\n",
    "        job_desc = data[key]['desc']\n",
    "        response = get_techs(job_desc) # keep whole object in case I want metadata from it later\n",
    "        response_list = [x.lower() for x in response[\"choices\"][0][\"message\"][\"content\"].split(\", \")]\n",
    "        data[key]['techs'] = response_list \n",
    "    # dict_to_json originally from jobSearch.py, use to indicate which files have already been parsed\n",
    "    # Right now saves file separately, keeping original.  When done with testing will want it to overwrite.  Then it won't matter if the original is saved or not as we'll delete it anyways.\n",
    "    dict_to_json(data, f\"p-{filepath}\")  "
   ]
  },
  {
   "cell_type": "code",
   "execution_count": null,
   "metadata": {},
   "outputs": [],
   "source": [
    "# for filename in os.listdir(\"data\"):\n",
    "#     if filename.startswith(\"p-\"): #already been parsed\n",
    "#         continue\n",
    "#     else:\n",
    "#         filepath = fr\"data/{filename}\"\n",
    "#         get_tech_list(filename) # remember this saves the files separately, keeping the original for now.\n",
    "        "
   ]
  },
  {
   "cell_type": "markdown",
   "metadata": {},
   "source": [
    "Above will put the openai decided techs into a list in data[job_id]['techs'].  Can now use data itself for training spacy"
   ]
  },
  {
   "cell_type": "code",
   "execution_count": 28,
   "metadata": {},
   "outputs": [
    {
     "ename": "RetryError",
     "evalue": "RetryError[<Future at 0x1b20bea8af0 state=finished raised RateLimitError>]",
     "output_type": "error",
     "traceback": [
      "\u001b[1;31m---------------------------------------------------------------------------\u001b[0m",
      "\u001b[1;31mRateLimitError\u001b[0m                            Traceback (most recent call last)",
      "File \u001b[1;32mc:\\Users\\Zade\\Desktop\\PythonStuff\\jobReqs\\jobReqs\\.venv\\lib\\site-packages\\tenacity\\__init__.py:382\u001b[0m, in \u001b[0;36mRetrying.__call__\u001b[1;34m(self, fn, *args, **kwargs)\u001b[0m\n\u001b[0;32m    381\u001b[0m \u001b[39mtry\u001b[39;00m:\n\u001b[1;32m--> 382\u001b[0m     result \u001b[39m=\u001b[39m fn(\u001b[39m*\u001b[39margs, \u001b[39m*\u001b[39m\u001b[39m*\u001b[39mkwargs)\n\u001b[0;32m    383\u001b[0m \u001b[39mexcept\u001b[39;00m \u001b[39mBaseException\u001b[39;00m:  \u001b[39m# noqa: B902\u001b[39;00m\n",
      "\u001b[1;32mc:\\Users\\Zade\\Desktop\\PythonStuff\\jobReqs\\jobReqs\\trainspacy.ipynb Cell 11\u001b[0m line \u001b[0;36m1\n\u001b[0;32m     <a href='vscode-notebook-cell:/c%3A/Users/Zade/Desktop/PythonStuff/jobReqs/jobReqs/trainspacy.ipynb#X23sZmlsZQ%3D%3D?line=10'>11</a>\u001b[0m job_desc \u001b[39m=\u001b[39m data[key][\u001b[39m'\u001b[39m\u001b[39mdesc\u001b[39m\u001b[39m'\u001b[39m]\n\u001b[1;32m---> <a href='vscode-notebook-cell:/c%3A/Users/Zade/Desktop/PythonStuff/jobReqs/jobReqs/trainspacy.ipynb#X23sZmlsZQ%3D%3D?line=11'>12</a>\u001b[0m response \u001b[39m=\u001b[39m get_techs(job_desc) \u001b[39m# keep whole object in case I want metadata from it later\u001b[39;00m\n\u001b[0;32m     <a href='vscode-notebook-cell:/c%3A/Users/Zade/Desktop/PythonStuff/jobReqs/jobReqs/trainspacy.ipynb#X23sZmlsZQ%3D%3D?line=12'>13</a>\u001b[0m response_list \u001b[39m=\u001b[39m [x\u001b[39m.\u001b[39mlower() \u001b[39mfor\u001b[39;00m x \u001b[39min\u001b[39;00m response[\u001b[39m\"\u001b[39m\u001b[39mchoices\u001b[39m\u001b[39m\"\u001b[39m][\u001b[39m0\u001b[39m][\u001b[39m\"\u001b[39m\u001b[39mmessage\u001b[39m\u001b[39m\"\u001b[39m][\u001b[39m\"\u001b[39m\u001b[39mcontent\u001b[39m\u001b[39m\"\u001b[39m]\u001b[39m.\u001b[39msplit(\u001b[39m\"\u001b[39m\u001b[39m, \u001b[39m\u001b[39m\"\u001b[39m)]\n",
      "\u001b[1;32mc:\\Users\\Zade\\Desktop\\PythonStuff\\jobReqs\\jobReqs\\trainspacy.ipynb Cell 11\u001b[0m line \u001b[0;36m3\n\u001b[0;32m      <a href='vscode-notebook-cell:/c%3A/Users/Zade/Desktop/PythonStuff/jobReqs/jobReqs/trainspacy.ipynb#X23sZmlsZQ%3D%3D?line=1'>2</a>\u001b[0m \u001b[39mdef\u001b[39;00m \u001b[39mget_techs\u001b[39m(text):\n\u001b[1;32m----> <a href='vscode-notebook-cell:/c%3A/Users/Zade/Desktop/PythonStuff/jobReqs/jobReqs/trainspacy.ipynb#X23sZmlsZQ%3D%3D?line=2'>3</a>\u001b[0m     response \u001b[39m=\u001b[39m openai\u001b[39m.\u001b[39;49mChatCompletion\u001b[39m.\u001b[39;49mcreate(\n\u001b[0;32m      <a href='vscode-notebook-cell:/c%3A/Users/Zade/Desktop/PythonStuff/jobReqs/jobReqs/trainspacy.ipynb#X23sZmlsZQ%3D%3D?line=3'>4</a>\u001b[0m         model\u001b[39m=\u001b[39;49m\u001b[39m\"\u001b[39;49m\u001b[39mgpt-3.5-turbo\u001b[39;49m\u001b[39m\"\u001b[39;49m,\n\u001b[0;32m      <a href='vscode-notebook-cell:/c%3A/Users/Zade/Desktop/PythonStuff/jobReqs/jobReqs/trainspacy.ipynb#X23sZmlsZQ%3D%3D?line=4'>5</a>\u001b[0m         messages\u001b[39m=\u001b[39;49m[\n\u001b[0;32m      <a href='vscode-notebook-cell:/c%3A/Users/Zade/Desktop/PythonStuff/jobReqs/jobReqs/trainspacy.ipynb#X23sZmlsZQ%3D%3D?line=5'>6</a>\u001b[0m             {\u001b[39m\"\u001b[39;49m\u001b[39mrole\u001b[39;49m\u001b[39m\"\u001b[39;49m:\u001b[39m\"\u001b[39;49m\u001b[39msystem\u001b[39;49m\u001b[39m\"\u001b[39;49m, \u001b[39m\"\u001b[39;49m\u001b[39mcontent\u001b[39;49m\u001b[39m\"\u001b[39;49m:\u001b[39m\"\u001b[39;49m\u001b[39mYou identify specific technology names from job descriptions.  Respond only with a list of the names of the specific technologies.\u001b[39;49m\u001b[39m\"\u001b[39;49m},\n\u001b[0;32m      <a href='vscode-notebook-cell:/c%3A/Users/Zade/Desktop/PythonStuff/jobReqs/jobReqs/trainspacy.ipynb#X23sZmlsZQ%3D%3D?line=6'>7</a>\u001b[0m             {\u001b[39m\"\u001b[39;49m\u001b[39mrole\u001b[39;49m\u001b[39m\"\u001b[39;49m:\u001b[39m\"\u001b[39;49m\u001b[39muser\u001b[39;49m\u001b[39m\"\u001b[39;49m, \u001b[39m\"\u001b[39;49m\u001b[39mcontent\u001b[39;49m\u001b[39m\"\u001b[39;49m:\u001b[39mf\u001b[39;49m\u001b[39m\"\u001b[39;49m\u001b[39mIdentify the specific technologies in the following text and respond with them in a list: \u001b[39;49m\u001b[39m{\u001b[39;49;00mexample_text_1\u001b[39m}\u001b[39;49;00m\u001b[39m\"\u001b[39;49m},\n\u001b[0;32m      <a href='vscode-notebook-cell:/c%3A/Users/Zade/Desktop/PythonStuff/jobReqs/jobReqs/trainspacy.ipynb#X23sZmlsZQ%3D%3D?line=7'>8</a>\u001b[0m             {\u001b[39m\"\u001b[39;49m\u001b[39mrole\u001b[39;49m\u001b[39m\"\u001b[39;49m:\u001b[39m\"\u001b[39;49m\u001b[39massistant\u001b[39;49m\u001b[39m\"\u001b[39;49m, \u001b[39m\"\u001b[39;49m\u001b[39mcontent\u001b[39;49m\u001b[39m\"\u001b[39;49m:\u001b[39m\"\u001b[39;49m\u001b[39mllama 2, python, pytorch\u001b[39;49m\u001b[39m\"\u001b[39;49m},\n\u001b[0;32m      <a href='vscode-notebook-cell:/c%3A/Users/Zade/Desktop/PythonStuff/jobReqs/jobReqs/trainspacy.ipynb#X23sZmlsZQ%3D%3D?line=8'>9</a>\u001b[0m             {\u001b[39m\"\u001b[39;49m\u001b[39mrole\u001b[39;49m\u001b[39m\"\u001b[39;49m:\u001b[39m\"\u001b[39;49m\u001b[39muser\u001b[39;49m\u001b[39m\"\u001b[39;49m, \u001b[39m\"\u001b[39;49m\u001b[39mcontent\u001b[39;49m\u001b[39m\"\u001b[39;49m:\u001b[39mf\u001b[39;49m\u001b[39m\"\u001b[39;49m\u001b[39mIdentify the specific technologies in the following text: \u001b[39;49m\u001b[39m{\u001b[39;49;00mexample_text_2\u001b[39m}\u001b[39;49;00m\u001b[39m\"\u001b[39;49m},\n\u001b[0;32m     <a href='vscode-notebook-cell:/c%3A/Users/Zade/Desktop/PythonStuff/jobReqs/jobReqs/trainspacy.ipynb#X23sZmlsZQ%3D%3D?line=9'>10</a>\u001b[0m             {\u001b[39m\"\u001b[39;49m\u001b[39mrole\u001b[39;49m\u001b[39m\"\u001b[39;49m:\u001b[39m\"\u001b[39;49m\u001b[39massistant\u001b[39;49m\u001b[39m\"\u001b[39;49m, \u001b[39m\"\u001b[39;49m\u001b[39mcontent\u001b[39;49m\u001b[39m\"\u001b[39;49m:\u001b[39m\"\u001b[39;49m\u001b[39mpython, spark, sql, snowflake, tableau, aws, azure, power bi\u001b[39;49m\u001b[39m\"\u001b[39;49m},\n\u001b[0;32m     <a href='vscode-notebook-cell:/c%3A/Users/Zade/Desktop/PythonStuff/jobReqs/jobReqs/trainspacy.ipynb#X23sZmlsZQ%3D%3D?line=10'>11</a>\u001b[0m             {\u001b[39m\"\u001b[39;49m\u001b[39mrole\u001b[39;49m\u001b[39m\"\u001b[39;49m:\u001b[39m\"\u001b[39;49m\u001b[39muser\u001b[39;49m\u001b[39m\"\u001b[39;49m, \u001b[39m\"\u001b[39;49m\u001b[39mcontent\u001b[39;49m\u001b[39m\"\u001b[39;49m:\u001b[39mf\u001b[39;49m\u001b[39m\"\u001b[39;49m\u001b[39mIdentify the specific technologies in the following text: \u001b[39;49m\u001b[39m{\u001b[39;49;00mtext\u001b[39m}\u001b[39;49;00m\u001b[39m\"\u001b[39;49m}\n\u001b[0;32m     <a href='vscode-notebook-cell:/c%3A/Users/Zade/Desktop/PythonStuff/jobReqs/jobReqs/trainspacy.ipynb#X23sZmlsZQ%3D%3D?line=11'>12</a>\u001b[0m         ]\n\u001b[0;32m     <a href='vscode-notebook-cell:/c%3A/Users/Zade/Desktop/PythonStuff/jobReqs/jobReqs/trainspacy.ipynb#X23sZmlsZQ%3D%3D?line=12'>13</a>\u001b[0m     )\n\u001b[0;32m     <a href='vscode-notebook-cell:/c%3A/Users/Zade/Desktop/PythonStuff/jobReqs/jobReqs/trainspacy.ipynb#X23sZmlsZQ%3D%3D?line=13'>14</a>\u001b[0m     \u001b[39mreturn\u001b[39;00m response\n",
      "File \u001b[1;32mc:\\Users\\Zade\\Desktop\\PythonStuff\\jobReqs\\jobReqs\\.venv\\lib\\site-packages\\openai\\api_resources\\chat_completion.py:25\u001b[0m, in \u001b[0;36mChatCompletion.create\u001b[1;34m(cls, *args, **kwargs)\u001b[0m\n\u001b[0;32m     24\u001b[0m \u001b[39mtry\u001b[39;00m:\n\u001b[1;32m---> 25\u001b[0m     \u001b[39mreturn\u001b[39;00m \u001b[39msuper\u001b[39m()\u001b[39m.\u001b[39mcreate(\u001b[39m*\u001b[39margs, \u001b[39m*\u001b[39m\u001b[39m*\u001b[39mkwargs)\n\u001b[0;32m     26\u001b[0m \u001b[39mexcept\u001b[39;00m TryAgain \u001b[39mas\u001b[39;00m e:\n",
      "File \u001b[1;32mc:\\Users\\Zade\\Desktop\\PythonStuff\\jobReqs\\jobReqs\\.venv\\lib\\site-packages\\openai\\api_resources\\abstract\\engine_api_resource.py:153\u001b[0m, in \u001b[0;36mEngineAPIResource.create\u001b[1;34m(cls, api_key, api_base, api_type, request_id, api_version, organization, **params)\u001b[0m\n\u001b[0;32m    138\u001b[0m (\n\u001b[0;32m    139\u001b[0m     deployment_id,\n\u001b[0;32m    140\u001b[0m     engine,\n\u001b[1;32m   (...)\u001b[0m\n\u001b[0;32m    150\u001b[0m     api_key, api_base, api_type, api_version, organization, \u001b[39m*\u001b[39m\u001b[39m*\u001b[39mparams\n\u001b[0;32m    151\u001b[0m )\n\u001b[1;32m--> 153\u001b[0m response, _, api_key \u001b[39m=\u001b[39m requestor\u001b[39m.\u001b[39;49mrequest(\n\u001b[0;32m    154\u001b[0m     \u001b[39m\"\u001b[39;49m\u001b[39mpost\u001b[39;49m\u001b[39m\"\u001b[39;49m,\n\u001b[0;32m    155\u001b[0m     url,\n\u001b[0;32m    156\u001b[0m     params\u001b[39m=\u001b[39;49mparams,\n\u001b[0;32m    157\u001b[0m     headers\u001b[39m=\u001b[39;49mheaders,\n\u001b[0;32m    158\u001b[0m     stream\u001b[39m=\u001b[39;49mstream,\n\u001b[0;32m    159\u001b[0m     request_id\u001b[39m=\u001b[39;49mrequest_id,\n\u001b[0;32m    160\u001b[0m     request_timeout\u001b[39m=\u001b[39;49mrequest_timeout,\n\u001b[0;32m    161\u001b[0m )\n\u001b[0;32m    163\u001b[0m \u001b[39mif\u001b[39;00m stream:\n\u001b[0;32m    164\u001b[0m     \u001b[39m# must be an iterator\u001b[39;00m\n",
      "File \u001b[1;32mc:\\Users\\Zade\\Desktop\\PythonStuff\\jobReqs\\jobReqs\\.venv\\lib\\site-packages\\openai\\api_requestor.py:298\u001b[0m, in \u001b[0;36mAPIRequestor.request\u001b[1;34m(self, method, url, params, headers, files, stream, request_id, request_timeout)\u001b[0m\n\u001b[0;32m    288\u001b[0m result \u001b[39m=\u001b[39m \u001b[39mself\u001b[39m\u001b[39m.\u001b[39mrequest_raw(\n\u001b[0;32m    289\u001b[0m     method\u001b[39m.\u001b[39mlower(),\n\u001b[0;32m    290\u001b[0m     url,\n\u001b[1;32m   (...)\u001b[0m\n\u001b[0;32m    296\u001b[0m     request_timeout\u001b[39m=\u001b[39mrequest_timeout,\n\u001b[0;32m    297\u001b[0m )\n\u001b[1;32m--> 298\u001b[0m resp, got_stream \u001b[39m=\u001b[39m \u001b[39mself\u001b[39;49m\u001b[39m.\u001b[39;49m_interpret_response(result, stream)\n\u001b[0;32m    299\u001b[0m \u001b[39mreturn\u001b[39;00m resp, got_stream, \u001b[39mself\u001b[39m\u001b[39m.\u001b[39mapi_key\n",
      "File \u001b[1;32mc:\\Users\\Zade\\Desktop\\PythonStuff\\jobReqs\\jobReqs\\.venv\\lib\\site-packages\\openai\\api_requestor.py:700\u001b[0m, in \u001b[0;36mAPIRequestor._interpret_response\u001b[1;34m(self, result, stream)\u001b[0m\n\u001b[0;32m    698\u001b[0m \u001b[39melse\u001b[39;00m:\n\u001b[0;32m    699\u001b[0m     \u001b[39mreturn\u001b[39;00m (\n\u001b[1;32m--> 700\u001b[0m         \u001b[39mself\u001b[39;49m\u001b[39m.\u001b[39;49m_interpret_response_line(\n\u001b[0;32m    701\u001b[0m             result\u001b[39m.\u001b[39;49mcontent\u001b[39m.\u001b[39;49mdecode(\u001b[39m\"\u001b[39;49m\u001b[39mutf-8\u001b[39;49m\u001b[39m\"\u001b[39;49m),\n\u001b[0;32m    702\u001b[0m             result\u001b[39m.\u001b[39;49mstatus_code,\n\u001b[0;32m    703\u001b[0m             result\u001b[39m.\u001b[39;49mheaders,\n\u001b[0;32m    704\u001b[0m             stream\u001b[39m=\u001b[39;49m\u001b[39mFalse\u001b[39;49;00m,\n\u001b[0;32m    705\u001b[0m         ),\n\u001b[0;32m    706\u001b[0m         \u001b[39mFalse\u001b[39;00m,\n\u001b[0;32m    707\u001b[0m     )\n",
      "File \u001b[1;32mc:\\Users\\Zade\\Desktop\\PythonStuff\\jobReqs\\jobReqs\\.venv\\lib\\site-packages\\openai\\api_requestor.py:765\u001b[0m, in \u001b[0;36mAPIRequestor._interpret_response_line\u001b[1;34m(self, rbody, rcode, rheaders, stream)\u001b[0m\n\u001b[0;32m    764\u001b[0m \u001b[39mif\u001b[39;00m stream_error \u001b[39mor\u001b[39;00m \u001b[39mnot\u001b[39;00m \u001b[39m200\u001b[39m \u001b[39m<\u001b[39m\u001b[39m=\u001b[39m rcode \u001b[39m<\u001b[39m \u001b[39m300\u001b[39m:\n\u001b[1;32m--> 765\u001b[0m     \u001b[39mraise\u001b[39;00m \u001b[39mself\u001b[39m\u001b[39m.\u001b[39mhandle_error_response(\n\u001b[0;32m    766\u001b[0m         rbody, rcode, resp\u001b[39m.\u001b[39mdata, rheaders, stream_error\u001b[39m=\u001b[39mstream_error\n\u001b[0;32m    767\u001b[0m     )\n\u001b[0;32m    768\u001b[0m \u001b[39mreturn\u001b[39;00m resp\n",
      "\u001b[1;31mRateLimitError\u001b[0m: Rate limit reached for default-gpt-3.5-turbo in organization org-H77pLY0lAaZjBOoJznR3V5AN on tokens per min. Limit: 90000 / min. Current: 86754 / min. Contact us through our help center at help.openai.com if you continue to have issues.",
      "\nThe above exception was the direct cause of the following exception:\n",
      "\u001b[1;31mRetryError\u001b[0m                                Traceback (most recent call last)",
      "\u001b[1;32mc:\\Users\\Zade\\Desktop\\PythonStuff\\jobReqs\\jobReqs\\trainspacy.ipynb Cell 11\u001b[0m line \u001b[0;36m4\n\u001b[0;32m      <a href='vscode-notebook-cell:/c%3A/Users/Zade/Desktop/PythonStuff/jobReqs/jobReqs/trainspacy.ipynb#X23sZmlsZQ%3D%3D?line=0'>1</a>\u001b[0m \u001b[39m# Test with only the first json now\u001b[39;00m\n\u001b[0;32m      <a href='vscode-notebook-cell:/c%3A/Users/Zade/Desktop/PythonStuff/jobReqs/jobReqs/trainspacy.ipynb#X23sZmlsZQ%3D%3D?line=1'>2</a>\u001b[0m \u001b[39m# Hit error with rate limits on openai api\u001b[39;00m\n\u001b[0;32m      <a href='vscode-notebook-cell:/c%3A/Users/Zade/Desktop/PythonStuff/jobReqs/jobReqs/trainspacy.ipynb#X23sZmlsZQ%3D%3D?line=2'>3</a>\u001b[0m \u001b[39m# https://platform.openai.com/docs/guides/rate-limits/error-mitigation\u001b[39;00m\n\u001b[1;32m----> <a href='vscode-notebook-cell:/c%3A/Users/Zade/Desktop/PythonStuff/jobReqs/jobReqs/trainspacy.ipynb#X23sZmlsZQ%3D%3D?line=3'>4</a>\u001b[0m get_tech_list(\u001b[39mfr\u001b[39;49m\u001b[39m\"\u001b[39;49m\u001b[39mdata/07-09-23-q-data+science-data+analysis-data+engineer-mle-machine+learning-mlops-l-remote.json\u001b[39;49m\u001b[39m\"\u001b[39;49m)\n",
      "File \u001b[1;32mc:\\Users\\Zade\\Desktop\\PythonStuff\\jobReqs\\jobReqs\\.venv\\lib\\site-packages\\tenacity\\__init__.py:289\u001b[0m, in \u001b[0;36mBaseRetrying.wraps.<locals>.wrapped_f\u001b[1;34m(*args, **kw)\u001b[0m\n\u001b[0;32m    287\u001b[0m \u001b[39m@functools\u001b[39m\u001b[39m.\u001b[39mwraps(f)\n\u001b[0;32m    288\u001b[0m \u001b[39mdef\u001b[39;00m \u001b[39mwrapped_f\u001b[39m(\u001b[39m*\u001b[39margs: t\u001b[39m.\u001b[39mAny, \u001b[39m*\u001b[39m\u001b[39m*\u001b[39mkw: t\u001b[39m.\u001b[39mAny) \u001b[39m-\u001b[39m\u001b[39m>\u001b[39m t\u001b[39m.\u001b[39mAny:\n\u001b[1;32m--> 289\u001b[0m     \u001b[39mreturn\u001b[39;00m \u001b[39mself\u001b[39m(f, \u001b[39m*\u001b[39margs, \u001b[39m*\u001b[39m\u001b[39m*\u001b[39mkw)\n",
      "File \u001b[1;32mc:\\Users\\Zade\\Desktop\\PythonStuff\\jobReqs\\jobReqs\\.venv\\lib\\site-packages\\tenacity\\__init__.py:379\u001b[0m, in \u001b[0;36mRetrying.__call__\u001b[1;34m(self, fn, *args, **kwargs)\u001b[0m\n\u001b[0;32m    377\u001b[0m retry_state \u001b[39m=\u001b[39m RetryCallState(retry_object\u001b[39m=\u001b[39m\u001b[39mself\u001b[39m, fn\u001b[39m=\u001b[39mfn, args\u001b[39m=\u001b[39margs, kwargs\u001b[39m=\u001b[39mkwargs)\n\u001b[0;32m    378\u001b[0m \u001b[39mwhile\u001b[39;00m \u001b[39mTrue\u001b[39;00m:\n\u001b[1;32m--> 379\u001b[0m     do \u001b[39m=\u001b[39m \u001b[39mself\u001b[39;49m\u001b[39m.\u001b[39;49miter(retry_state\u001b[39m=\u001b[39;49mretry_state)\n\u001b[0;32m    380\u001b[0m     \u001b[39mif\u001b[39;00m \u001b[39misinstance\u001b[39m(do, DoAttempt):\n\u001b[0;32m    381\u001b[0m         \u001b[39mtry\u001b[39;00m:\n",
      "File \u001b[1;32mc:\\Users\\Zade\\Desktop\\PythonStuff\\jobReqs\\jobReqs\\.venv\\lib\\site-packages\\tenacity\\__init__.py:326\u001b[0m, in \u001b[0;36mBaseRetrying.iter\u001b[1;34m(self, retry_state)\u001b[0m\n\u001b[0;32m    324\u001b[0m     \u001b[39mif\u001b[39;00m \u001b[39mself\u001b[39m\u001b[39m.\u001b[39mreraise:\n\u001b[0;32m    325\u001b[0m         \u001b[39mraise\u001b[39;00m retry_exc\u001b[39m.\u001b[39mreraise()\n\u001b[1;32m--> 326\u001b[0m     \u001b[39mraise\u001b[39;00m retry_exc \u001b[39mfrom\u001b[39;00m \u001b[39mfut\u001b[39;00m\u001b[39m.\u001b[39;00m\u001b[39mexception\u001b[39;00m()\n\u001b[0;32m    328\u001b[0m \u001b[39mif\u001b[39;00m \u001b[39mself\u001b[39m\u001b[39m.\u001b[39mwait:\n\u001b[0;32m    329\u001b[0m     sleep \u001b[39m=\u001b[39m \u001b[39mself\u001b[39m\u001b[39m.\u001b[39mwait(retry_state)\n",
      "\u001b[1;31mRetryError\u001b[0m: RetryError[<Future at 0x1b20bea8af0 state=finished raised RateLimitError>]"
     ]
    }
   ],
   "source": [
    "# Test with only the first json now\n",
    "# Hit error with rate limits on openai api\n",
    "# https://platform.openai.com/docs/guides/rate-limits/error-mitigation\n",
    "get_tech_list(fr\"data/07-09-23-q-data+science-data+analysis-data+engineer-mle-machine+learning-mlops-l-remote.json\")"
   ]
  },
  {
   "cell_type": "code",
   "execution_count": null,
   "metadata": {},
   "outputs": [],
   "source": []
  }
 ],
 "metadata": {
  "kernelspec": {
   "display_name": ".venv",
   "language": "python",
   "name": "python3"
  },
  "language_info": {
   "codemirror_mode": {
    "name": "ipython",
    "version": 3
   },
   "file_extension": ".py",
   "mimetype": "text/x-python",
   "name": "python",
   "nbconvert_exporter": "python",
   "pygments_lexer": "ipython3",
   "version": "3.9.16"
  },
  "orig_nbformat": 4
 },
 "nbformat": 4,
 "nbformat_minor": 2
}
