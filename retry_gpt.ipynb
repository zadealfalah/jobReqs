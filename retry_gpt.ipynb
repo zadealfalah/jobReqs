{
 "cells": [
  {
   "cell_type": "code",
   "execution_count": 1,
   "metadata": {},
   "outputs": [],
   "source": [
    "import json\n",
    "import random\n",
    "from utils import dict_to_json, remove_processing"
   ]
  },
  {
   "cell_type": "markdown",
   "metadata": {},
   "source": [
    "Remove the processing on the data from 09-09 to 14-09 so we can re-do it with the newly engineered gpt prompt"
   ]
  },
  {
   "cell_type": "code",
   "execution_count": 2,
   "metadata": {},
   "outputs": [],
   "source": [
    "files_to_reprocess = [\"data/p-raw_data-17-09-23.json\"]"
   ]
  },
  {
   "cell_type": "code",
   "execution_count": 3,
   "metadata": {},
   "outputs": [
    {
     "name": "stdout",
     "output_type": "stream",
     "text": [
      "metadata has no cleaned desc\n",
      "File data/p-raw_data-17-09-23.json has been removed, and file data/raw_data-17-09-23.json has been recreated.\n"
     ]
    }
   ],
   "source": [
    "for file in files_to_reprocess:\n",
    "    remove_processing(file)"
   ]
  },
  {
   "cell_type": "code",
   "execution_count": null,
   "metadata": {},
   "outputs": [],
   "source": []
  },
  {
   "cell_type": "code",
   "execution_count": null,
   "metadata": {},
   "outputs": [],
   "source": []
  },
  {
   "cell_type": "markdown",
   "metadata": {},
   "source": [
    "Use this to remove the cleaned descs and tech lists, retrying the gpt stuff on a smaller subset"
   ]
  },
  {
   "cell_type": "code",
   "execution_count": 32,
   "metadata": {},
   "outputs": [],
   "source": [
    "keys = random.sample(list(data.keys()), 20) # randomly get 20 keys\n",
    "vals = [data[key] for key in keys]"
   ]
  },
  {
   "cell_type": "code",
   "execution_count": 33,
   "metadata": {},
   "outputs": [],
   "source": [
    "smaller = {}\n",
    "for key in keys:\n",
    "    smaller[key] = data[key]\n",
    "    del smaller[key][\"cleaned_desc\"]\n",
    "    del smaller[key][\"techs\"]\n",
    "\n",
    "smaller['metadata'] = {} #add metadata back in to use add_techs.py directly"
   ]
  },
  {
   "cell_type": "code",
   "execution_count": 34,
   "metadata": {},
   "outputs": [],
   "source": [
    "dict_to_json(smaller, \"data/raw_data-17-09-23-small.json\")"
   ]
  },
  {
   "cell_type": "code",
   "execution_count": null,
   "metadata": {},
   "outputs": [],
   "source": []
  }
 ],
 "metadata": {
  "kernelspec": {
   "display_name": ".venv",
   "language": "python",
   "name": "python3"
  },
  "language_info": {
   "codemirror_mode": {
    "name": "ipython",
    "version": 3
   },
   "file_extension": ".py",
   "mimetype": "text/x-python",
   "name": "python",
   "nbconvert_exporter": "python",
   "pygments_lexer": "ipython3",
   "version": "3.9.16"
  },
  "orig_nbformat": 4
 },
 "nbformat": 4,
 "nbformat_minor": 2
}
