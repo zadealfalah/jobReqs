{
 "cells": [
  {
   "cell_type": "code",
   "execution_count": 13,
   "metadata": {},
   "outputs": [],
   "source": [
    "import json\n",
    "import pandas\n",
    "import os\n",
    "from bs4 import BeautifulSoup as bs"
   ]
  },
  {
   "cell_type": "markdown",
   "metadata": {},
   "source": [
    "Instead of spacy or whatever, try to use chat gpt api for NER"
   ]
  },
  {
   "cell_type": "code",
   "execution_count": 3,
   "metadata": {},
   "outputs": [],
   "source": [
    "f = open(\"threaded_results.json\")\n",
    "data = json.load(f) # this makes it back in to a dict"
   ]
  },
  {
   "cell_type": "code",
   "execution_count": 4,
   "metadata": {},
   "outputs": [],
   "source": [
    "# for key in data.keys():\n",
    "#     print(data[key]['title'])\n",
    "#     # print(data[key]['desc']) # super long to print ofc!"
   ]
  },
  {
   "cell_type": "code",
   "execution_count": 5,
   "metadata": {},
   "outputs": [],
   "source": [
    "allJobs = list(data.keys()) # make into list so we can pick which ones we want to look at."
   ]
  },
  {
   "cell_type": "code",
   "execution_count": 6,
   "metadata": {},
   "outputs": [
    {
     "data": {
      "text/plain": [
       "{'terms': ['python'],\n",
       " 'title': 'Software Engineer - All Levels',\n",
       " 'company': 'Listrak',\n",
       " 'desc': \"<div>\\n <p><b>About Listrak:</b></p> \\n <p> We are a SaaS company that offers an integrated digital marketing platform trusted by 1,000+ leading retailers and brands for email, text message marketing, identity resolution, behavioral triggers and cross-channel orchestration. Our HQ is in Lititz, PA, but we have employees spanning over 30 states (and growing!). We are a 350-person organization led by a passionate leadership team that is invested in bringing together diverse, creative, intelligent minds to create an amazing workplace and product. Want to know more? Follow this link to check out more about our culture: https://bit.ly/ListrakRecruiting</p> \\n <p><b> About the role:</b></p> \\n <p> We are currently looking to add to our Product Development team with Software Engineers of all levels of experience.</p> \\n <p> Listrak's Software Engineers work closely with the team to develop new Listrak features while maintaining the stability and sustainability of the Listrak product and solutions. In addition to developer responsibilities, Software Engineers are responsible for in-depth troubleshooting and resolution of performance and stability issues in the production environment. Through consultation with the internal team, the role ensures that applications are developed according to specifications in a SCRUM environment.</p> \\n <ul> \\n  <li>Develops new Listrak features and enhancements</li> \\n  <li>Authors and maintains clean code, following SOLID principles to create scalable and reliable systems</li> \\n  <li>Provides production support for the Listrak application and its subsystems</li> \\n  <li>Authors and publishes engineering documentation</li> \\n  <li>Participation in SCRUM events/ceremonies including but not limited to, daily communication about task progression and task refinement/estimation</li> \\n  <li>Participates in code reviews by providing feedback and responses on applicable pull requests</li> \\n  <li>Independently communicates with other teams and departments when required</li> \\n  <li>Acts as a mentor for Associate Engineers on the team</li> \\n </ul> \\n <p><b>You have: </b></p>\\n <ul>\\n  <li>Bachelor's Degree in Computer Science or similar field, or equivalent work experience</li> \\n  <li>Minimum of 1+ year(s) of experience in a professional development setting to be qualified</li> \\n  <li>Minimum of intermediate knowledge of C# programming language required</li> \\n  <li>Knowledge of frontend development (e.g. Vue.JS, JavaScript, HTML, CSS) a plus</li> \\n  <li>Experience working with Python or similar programming language a plus</li> \\n  <li>Proficient experience with Microsoft SQL Server or other relational databases</li> \\n  <li>Ability to troubleshoot code using debugging tools for both frontend and backend development</li> \\n  <li>Ability to build and maintain web services (e.g. SOAP, REST)</li> \\n  <li>Excellent analytical/organizational and decision-making skills</li> \\n  <li>Experience with agile development methodologies (e.g. SCRUM)</li> \\n  <li>Experience with source control (e.g. Git)</li> \\n  <li>Familiar with distributed computing and data frameworks; experience with Apache Kafka is a plus</li> \\n  <li>Experience with cloud services is a plus</li> \\n </ul> \\n <p><b>Why join Listrak? </b></p>\\n <p>At Listrak, we take every voice into consideration—we invite and encourage our employees to help us solve problems and anticipate the unknown. We invest in our employees and work to grow and develop you in your career. We are highly collaborative and team oriented, and we take pride in our culture at Listrak!</p> \\n <p> Some of our amazing benefits include:</p> \\n <ul> \\n  <li>Remote and Hybrid Work Options*</li> \\n  <li>Open Time Off</li> \\n  <li>Volunteer Time Off</li> \\n  <li>Adoption and Fertility stipend</li> \\n  <li>Education and Gym Reimbursement</li> \\n </ul> \\n <p>We also encourage our employees to have work/life balance, with benefits like generous time off, remote capabilities, and volunteer time off. We love to give back to our community (and yours!) and we take our social responsibility seriously, sponsoring and hosting local high school tech programming, volunteering our space for community organizations, and donating time and resources for non-profits like Meals on Wheels, Habitat for Humanity, and our local YWCA.</p> \\n <p> Come join our growing team!</p> \\n <p> Listrak is proud to be an Equal Employment Opportunity and affirmative action employer. We do not discriminate based on gender, race or color, ethnicity or national origin, age, disability, religion, sexual orientation, gender identity or expression, veteran status, or any other applicable characteristics protected by law.</p>\\n <br> \\n <p></p> \\n <p> #LI-RK1</p> \\n <p> #LI-Remote</p>\\n</div>\\n<p></p>\"}"
      ]
     },
     "execution_count": 6,
     "metadata": {},
     "output_type": "execute_result"
    }
   ],
   "source": [
    "data[allJobs[0]]"
   ]
  },
  {
   "cell_type": "code",
   "execution_count": 7,
   "metadata": {},
   "outputs": [
    {
     "data": {
      "text/plain": [
       "'<div>\\n Senior Python Developer - REMOTE \\n <div>\\n  <b>Job Title:</b> Senior Backend Python Developer \\n  <br> \\n  <b>Job Location:</b> 100% REMOTE \\n  <br> \\n  <b>Requirements:</b> 5+ years of experience of Back End Development with Python &amp; Django. \\n  <br> \\n  <br> A National Technology Professional Services firm has a full time, 100% Remote position available for a Senior Backend Developer with Python &amp; Django experience to join the team ASAP! \\n  <br> \\n  <br> The ideal candidate will have at least 5 years of experience with Python and Django backend development as well as experience with AWS Cloud Services. If this sounds like you, please read the details below and email over your background to Alex.Higgins@Cybercoders.com\\n </div>\\n <h4 class=\"jobSectionHeader\"><b> What You Need for this Position</b></h4>\\n <div>\\n  <b> Required Experience</b>\\n  <br> \\n  <ul>\\n   <li>5+ years of Backend Development experience</li>\\n   <li>5+ years experience with Python</li>\\n   <li>Django </li>\\n   <li>Cloud Services (AWS, Azure and/or GCP) </li>\\n   <li>Postgres</li>\\n   <li>RESTful API </li>\\n  </ul>\\n  <br> \\n  <b>Desired Skills:</b>\\n  <br> \\n  <ul>\\n   <li>Full Stack Development</li>\\n   <li>Experience in a Technical Lead role is a plus </li>\\n   <li>HTML/ CSS</li>\\n   <li>Git</li>\\n  </ul>\\n </div>\\n <h4 class=\"jobSectionHeader\"><b> What\\'s In It for You</b></h4>\\n <div>\\n   - Competitive Base Salary ($150k - $170k) \\n  <br> \\n  <ul>\\n   <li>100% REMOTE </li>\\n   <li>Medical</li>\\n   <li>Dental</li>\\n   <li>Vision</li>\\n   <li>3 weeks PTO</li>\\n   <li>401k Match</li>\\n  </ul>\\n </div>\\n <div>\\n   Senior Backend Developers with Python experience are encouraged to apply ASAP or you can send your resume to me directly at Alex.Higgins@cybercoders.com\\n </div>\\n <div>\\n   Colorado employees will receive paid sick leave. For additional information about available benefits, please contact Alex Higgins\\n </div>\\n <ul></ul>\\n <p>Applicants must be authorized to work in the U.S.</p>\\n <b><br> CyberCoders is proud to be an Equal Opportunity Employer</b>\\n <br> \\n <br> All qualified applicants will receive consideration for employment without regard to race, color, religion, sex, national origin, disability, protected veteran status, or any other characteristic protected by law.\\n <br> \\n <br> \\n <b>Your Right to Work</b> – In compliance with federal law, all persons hired will be required to verify identity and eligibility to work in the United States and to complete the required employment eligibility verification document form upon hire.\\n</div>'"
      ]
     },
     "execution_count": 7,
     "metadata": {},
     "output_type": "execute_result"
    }
   ],
   "source": [
    "data[allJobs[5]]['desc']"
   ]
  },
  {
   "cell_type": "code",
   "execution_count": 14,
   "metadata": {},
   "outputs": [],
   "source": [
    "def extractTextFromHTML(html_string):\n",
    "    try:\n",
    "        soup = bs(html_string, 'html.parser')\n",
    "        text = soup.get_text(separator=' ')\n",
    "        return text.strip()\n",
    "    except Exception as e:\n",
    "        print(f\"Error: {e}\")\n",
    "        return None\n",
    "    "
   ]
  },
  {
   "cell_type": "code",
   "execution_count": 21,
   "metadata": {},
   "outputs": [
    {
     "name": "stdout",
     "output_type": "stream",
     "text": [
      "Job: bf7e039e1ea8104e\n",
      "Job Description \n",
      " \n",
      "  As a Data Scientist in our Decision Sciences R&D organization, you will be responsible for researching and building optimization, control theory, simulation, and machine learning applications to extend Epsilon CORE Personalization Platform. Epsilon CORE Personalization Platform analyzes anonymized data at Internet scale and evaluates more than one trillion advertising opportunities per month in real-time. You will work on real-world problems as part of our highly collaborative R&D team, and your solutions will directly and rapidly impact our business. This includes analyzing raw source data and derived data; researching and developing models, algorithms, and applications; building tools and analyses for new and existing products; and presenting findings.\n",
      "  \n",
      " \n",
      " Responsibilities \n",
      " \n",
      " \n",
      "  Develop an understanding of Epsilon CORE Personalization Platform and proprietary datasets \n",
      "  Use your optimization, control theory, simulation, or machine learning expertise to research and recommend the best approaches to solving our technology and business problems \n",
      "  Design, implement, and validate your solutions in Apache Spark and Apache Hive using Scala, Pyspark and Python on large state-of-the-art computing clusters \n",
      "  Work with our Engineering teams to integrate your solutions into Epsilon's CORE Personalization Platform \n",
      "  Participate fully in our collaborative approach to research and applications projects \n",
      " \n",
      " \n",
      "  Qualifications \n",
      " \n",
      " \n",
      "  Ph.D. in Computer Science, Operations Research, Electrical Engineering, Statistics, Mathematics, Physics, Economics, or related scientific discipline \n",
      "  Research experience and coursework in Optimization, Control Theory, Machine Learning, or Simulation \n",
      "  Experience with distributed computing, such as Hadoop, Spark, or related technologies \n",
      "  Familiarity with Scala, Python, SQL, or Java; or \n",
      "  Strong understanding of modeling and statistical techniques \n",
      "  Desire to work in a highly collaborative environment \n",
      " \n",
      " \n",
      "  Additional Useful But Not Required Skills \n",
      " \n",
      " \n",
      "  Experience modeling or analyzing consumer behavior, market dynamics, or auctions \n",
      " \n",
      " \n",
      "  Additional Information \n",
      " \n",
      " \n",
      " When you're one of us, you get to run with the best.  For decades, we've been helping marketers from the world's top brands personalize experiences for millions of people with our cutting-edge technology, solutions and services. Epsilon's best-in-class identity gives brands a clear, privacy-safe view of their customers, which they can use across our suite of digital media, messaging and loyalty solutions. We process 400+ billion consumer actions each day and hold many patents of proprietary technology, including real-time modeling languages and consumer privacy advancements. Thanks to the work of every employee, Epsilon has been consistently recognized as industry-leading by Forrester, Adweek and the MRC. Positioned at the core of Publicis Groupe, Epsilon is a global company with more than 8,000 employees around the world. Check out a few of these resources to learn more about what makes Epsilon so EPIC:\n",
      "  \n",
      " \n",
      "  Culture: https://www.epsilon.com/us/about-us/our-culture-epsilon \n",
      "  DE&I: https://www.epsilon.com/us/about-us/diversity-equity-inclusion \n",
      "  CSR: https://www.epsilon.com/us/about-us/corporate-social-responsibility \n",
      "  Life at Epsilon: https://www.epsilon.com/us/about-us/epic-blog \n",
      " \n",
      " \n",
      "  Great People Deserve Great Benefits \n",
      " \n",
      "  We know that we have some of the brightest and most talented associates in the world, and we believe in rewarding them accordingly. If you work here, expect competitive pay, comprehensive health coverage, and endless opportunities to advance your career.\n",
      "  \n",
      "  Epsilon is an Equal Opportunity Employer. Epsilon's policy is not to discriminate against any applicant or employee based on actual or perceived race, age, sex or gender (including pregnancy), marital status, national origin, ancestry, citizenship status, mental or physical disability, religion, creed, color, sexual orientation, gender identity or expression (including transgender status), veteran status, genetic information, or any other characteristic protected by applicable federal, state or local law. Epsilon also prohibits harassment of applicants and employees based on any of these protected categories.\n",
      "  \n",
      "  Epsilon will provide accommodations to applicants needing accommodations to complete the application process.\n",
      "  \n",
      "  For San Francisco Bay and Los Angeles Areas: Epsilon will consider for employment qualified applicants with criminal histories in a manner consistent with the City of Los Angeles' Fair Chance Initiative for Hiring Ordinance and San Francisco Police Code Sections 4901-4919, commonly referred to as the San Francisco Fair Chance Ordinance. \n",
      "  \n",
      "  Applicants with criminal histories are welcome to apply.\n",
      "  \n",
      "  #LI-EB1\n",
      "  \n",
      "  REF199016T\n",
      "\n",
      "\n"
     ]
    }
   ],
   "source": [
    "for jobID in allJobs[7:8]:\n",
    "    print(f\"Job: {jobID}\")\n",
    "    print(extractTextFromHTML(data[jobID]['desc']))\n",
    "    print(\"\\n\")"
   ]
  },
  {
   "cell_type": "code",
   "execution_count": null,
   "metadata": {},
   "outputs": [],
   "source": []
  }
 ],
 "metadata": {
  "kernelspec": {
   "display_name": ".venv",
   "language": "python",
   "name": "python3"
  },
  "language_info": {
   "codemirror_mode": {
    "name": "ipython",
    "version": 3
   },
   "file_extension": ".py",
   "mimetype": "text/x-python",
   "name": "python",
   "nbconvert_exporter": "python",
   "pygments_lexer": "ipython3",
   "version": "3.10.9"
  },
  "orig_nbformat": 4
 },
 "nbformat": 4,
 "nbformat_minor": 2
}
