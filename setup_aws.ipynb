{
 "cells": [
  {
   "cell_type": "code",
   "execution_count": 24,
   "metadata": {},
   "outputs": [],
   "source": [
    "import boto3\n",
    "from dotenv import load_dotenv\n",
    "import os\n",
    "import json"
   ]
  },
  {
   "cell_type": "code",
   "execution_count": 55,
   "metadata": {},
   "outputs": [],
   "source": [
    "load_dotenv(override=True)\n",
    "aws_access_key_id = os.getenv(\"aws_access_key_id\")\n",
    "aws_secret_access_key = os.getenv(\"aws_secret_access_key\")\n",
    "aws_account_id = os.getenv(\"aws_account_id\")\n",
    "region_name = \"us-east-2\"\n",
    "availability_zone_1 = \"us-east-2a\"\n",
    "availability_zone_2 = \"us-east-2b\"\n",
    "bucket_name = \"indeed-job-data\"\n",
    "mwaa_environ_name = \"mwaa-job-analysis\""
   ]
  },
  {
   "cell_type": "markdown",
   "metadata": {},
   "source": [
    "# First we create the s3 bucket which will hold our data"
   ]
  },
  {
   "cell_type": "code",
   "execution_count": 16,
   "metadata": {},
   "outputs": [],
   "source": [
    "#init s3 client\n",
    "s3 = boto3.client(\"s3\", aws_access_key_id=aws_access_key_id, aws_secret_access_key=aws_secret_access_key,\n",
    "                  region_name=region_name)"
   ]
  },
  {
   "cell_type": "code",
   "execution_count": null,
   "metadata": {},
   "outputs": [],
   "source": [
    "# Create an S3 bucket\n",
    "s3.create_bucket(\n",
    "    Bucket=bucket_name,\n",
    "    CreateBucketConfiguration={\n",
    "        'LocationConstraint': region_name\n",
    "    }\n",
    ")"
   ]
  },
  {
   "cell_type": "code",
   "execution_count": 25,
   "metadata": {},
   "outputs": [
    {
     "name": "stdout",
     "output_type": "stream",
     "text": [
      "S3 bucket indeed-job-data created and configured for MWAA.\n"
     ]
    }
   ],
   "source": [
    "# Enable bucket versioning\n",
    "s3.put_bucket_versioning(\n",
    "    Bucket=bucket_name,\n",
    "    VersioningConfiguration={'Status': 'Enabled'}\n",
    ")\n",
    "\n",
    "# Initialize an S3 control client\n",
    "s3_control = boto3.client('s3control', aws_access_key_id=aws_access_key_id, aws_secret_access_key=aws_secret_access_key, region_name=region_name)\n",
    "\n",
    "# Configure public access blocking for the entire AWS account\n",
    "s3_control.put_public_access_block(\n",
    "    PublicAccessBlockConfiguration={\n",
    "        'BlockPublicAcls': True,\n",
    "        'IgnorePublicAcls': True,\n",
    "        'BlockPublicPolicy': True,\n",
    "        'RestrictPublicBuckets': True\n",
    "    },\n",
    "    AccountId=aws_account_id  # Replace with your AWS account ID\n",
    ")\n",
    "\n",
    "# Define a bucket policy to grant MWAA permissions\n",
    "bucket_policy = {\n",
    "    \"Version\": \"2012-10-17\",\n",
    "    \"Statement\": [\n",
    "        {\n",
    "            \"Sid\": \"MWAAReadWriteAccess\",\n",
    "            \"Effect\": \"Allow\",\n",
    "            \"Principal\": {\n",
    "                \"Service\": \"airflow.amazonaws.com\"\n",
    "            },\n",
    "            \"Action\": [\n",
    "                \"s3:GetObject\",\n",
    "                \"s3:PutObject\",\n",
    "                \"s3:ListBucket\"\n",
    "            ],\n",
    "            \"Resource\": [\n",
    "                f\"arn:aws:s3:::{bucket_name}/*\",\n",
    "                f\"arn:aws:s3:::{bucket_name}\"\n",
    "            ]\n",
    "        }\n",
    "    ]\n",
    "}\n",
    "\n",
    "# Convert the policy to a JSON string\n",
    "bucket_policy_json = json.dumps(bucket_policy)\n",
    "\n",
    "# Apply the bucket policy\n",
    "s3.put_bucket_policy(Bucket=bucket_name, Policy=bucket_policy_json)\n",
    "\n",
    "print(f\"S3 bucket {bucket_name} created and configured for MWAA.\")"
   ]
  },
  {
   "cell_type": "markdown",
   "metadata": {},
   "source": [
    "# Now we create the VPC MWAA will use"
   ]
  },
  {
   "cell_type": "code",
   "execution_count": 58,
   "metadata": {},
   "outputs": [],
   "source": [
    "# Init ec2 instance\n",
    "ec2 = boto3.client('ec2', aws_access_key_id=aws_access_key_id, aws_secret_access_key=aws_secret_access_key, region_name=region_name)"
   ]
  },
  {
   "cell_type": "code",
   "execution_count": 59,
   "metadata": {},
   "outputs": [
    {
     "name": "stdout",
     "output_type": "stream",
     "text": [
      "VPC with ID vpc-0ba65f485f6a97895 and Subnets with IDs ['subnet-07e4d0953abcaf3f3', 'subnet-000075b37a18c3bef'] created in availability zones us-east-2a and us-east-2b respectively.\n"
     ]
    }
   ],
   "source": [
    "# Create a VPC\n",
    "vpc = ec2.create_vpc(CidrBlock='10.0.0.0/16')\n",
    "# Get the VPC ID\n",
    "vpc_id = vpc['Vpc']['VpcId']\n",
    "# Enable DNS resolution and DNS hostnames for the VPC\n",
    "ec2.modify_vpc_attribute(VpcId=vpc_id, EnableDnsSupport={'Value': True})\n",
    "ec2.modify_vpc_attribute(VpcId=vpc_id, EnableDnsHostnames={'Value': True})\n",
    "\n",
    "# Create a subnet within the VPC\n",
    "subnet1 = ec2.create_subnet(VpcId=vpc_id, CidrBlock='10.0.0.0/24', AvailabilityZone=availability_zone_1)\n",
    "# Create a second subnet as MWAA requires at least 2\n",
    "subnet2 = ec2.create_subnet(VpcId=vpc_id, CidrBlock='10.0.1.0/24', AvailabilityZone=availability_zone_2)\n",
    "# Get the Subnet ID\n",
    "subnet_id_1 = subnet1['Subnet']['SubnetId']\n",
    "subnet_id_2 = subnet2['Subnet']['SubnetId']\n",
    "subnet_list = [subnet_id_1, subnet_id_2]\n",
    "print(f\"VPC with ID {vpc_id} and Subnets with IDs {subnet_list} \"\n",
    "      f\"created in availability zones {availability_zone_1} and {availability_zone_2} respectively.\")"
   ]
  },
  {
   "cell_type": "markdown",
   "metadata": {},
   "source": [
    "# Create the IAM role for MWAA\n",
    "Giving this role carte blanche with S3 and VPC access, not good practice but fine for now."
   ]
  },
  {
   "cell_type": "code",
   "execution_count": 30,
   "metadata": {},
   "outputs": [],
   "source": [
    "# Initialize an IAM client\n",
    "iam = boto3.client('iam', aws_access_key_id=aws_access_key_id, aws_secret_access_key=aws_secret_access_key, region_name=region_name)"
   ]
  },
  {
   "cell_type": "code",
   "execution_count": 31,
   "metadata": {},
   "outputs": [],
   "source": [
    "execution_role_name = \"mwaaJobExecutionRole\""
   ]
  },
  {
   "cell_type": "code",
   "execution_count": 68,
   "metadata": {},
   "outputs": [
    {
     "name": "stdout",
     "output_type": "stream",
     "text": [
      "MWAA execution role ARN: arn:aws:iam::910115230456:role/mwaaJobExecutionRole\n"
     ]
    }
   ],
   "source": [
    "# Define the trust policy document for the MWAA execution role\n",
    "trust_policy = {\n",
    "    \"Version\": \"2012-10-17\",\n",
    "    \"Statement\": [\n",
    "        {\n",
    "            \"Effect\": \"Allow\",\n",
    "            \"Principal\": {\n",
    "                \"Service\": \"airflow-env.amazonaws.com\"\n",
    "            },\n",
    "            \"Action\": \"sts:AssumeRole\"\n",
    "        }\n",
    "    ]\n",
    "}\n",
    "\n",
    "# Create the MWAA execution role\n",
    "execution_role = iam.create_role(\n",
    "    RoleName=execution_role_name,\n",
    "    AssumeRolePolicyDocument=json.dumps(trust_policy)\n",
    ")\n",
    "\n",
    "# Attach the necessary policies to the execution role for S3 access\n",
    "iam.attach_role_policy(\n",
    "    RoleName=execution_role_name,\n",
    "    PolicyArn='arn:aws:iam::aws:policy/AmazonS3FullAccess'\n",
    ")\n",
    "\n",
    "# Attach the necessary policies to the execution role for VPC access (example policy)\n",
    "iam.attach_role_policy(\n",
    "    RoleName=execution_role_name,\n",
    "    PolicyArn='arn:aws:iam::aws:policy/AmazonVPCFullAccess'\n",
    ")\n",
    "\n",
    "# Print the ARN of the execution role\n",
    "execution_role_arn = execution_role['Role']['Arn']\n",
    "print(f\"MWAA execution role ARN: {execution_role_arn}\")"
   ]
  },
  {
   "cell_type": "markdown",
   "metadata": {},
   "source": [
    "# Create the MWAA environment\n",
    "Note that we are putting our dags in the source bucket rather than having a separate dag bucket here."
   ]
  },
  {
   "cell_type": "code",
   "execution_count": 69,
   "metadata": {},
   "outputs": [],
   "source": [
    "source_bucket_arn = \"arn:aws:s3:::indeed-job-data\" # From our s3 bucket creation above\n",
    "webserver_access_mode = \"PUBLIC_ONLY\"\n",
    "dag_s3_path = \"dags/\" # since we will store our dags in the main s3 bucket we just need to go to the proper folder.\n",
    "security_group_id_1 = \"sg-064309e82cdc9d018\"\n",
    "security_group_id_2 = \"sg-090ae318b4ecd5dba\"\n",
    "# security_group_id_3 = \"sg-0a7d1ebce99fbdd16\"\n",
    "security_group_ids = [security_group_id_2]"
   ]
  },
  {
   "cell_type": "code",
   "execution_count": 70,
   "metadata": {},
   "outputs": [
    {
     "name": "stdout",
     "output_type": "stream",
     "text": [
      "MWAA environment 'mwaa-job-analysis' created.\n"
     ]
    }
   ],
   "source": [
    "# Initialize an MWAA client\n",
    "mwaa = boto3.client('mwaa', aws_access_key_id=aws_access_key_id, aws_secret_access_key=aws_secret_access_key, region_name=region_name)\n",
    "                    \n",
    "# Define your network configuration\n",
    "network_configuration = {\n",
    "    'SecurityGroupIds': security_group_ids,\n",
    "    'SubnetIds': subnet_list\n",
    "}\n",
    "\n",
    "# Create the MWAA environment\n",
    "mwaa.create_environment(\n",
    "    Name=mwaa_environ_name,\n",
    "    SourceBucketArn=source_bucket_arn,\n",
    "    ExecutionRoleArn=execution_role_arn,\n",
    "    WebserverAccessMode=webserver_access_mode,\n",
    "    DagS3Path=dag_s3_path,\n",
    "    NetworkConfiguration=network_configuration\n",
    "    # Add other configuration parameters as needed\n",
    ")\n",
    "\n",
    "print(f\"MWAA environment '{mwaa_environ_name}' created.\")"
   ]
  },
  {
   "cell_type": "markdown",
   "metadata": {},
   "source": [
    "# Now I need to upload my DAG and the raw data to my S3 bucket."
   ]
  },
  {
   "cell_type": "markdown",
   "metadata": {},
   "source": []
  }
 ],
 "metadata": {
  "kernelspec": {
   "display_name": ".venv",
   "language": "python",
   "name": "python3"
  },
  "language_info": {
   "codemirror_mode": {
    "name": "ipython",
    "version": 3
   },
   "file_extension": ".py",
   "mimetype": "text/x-python",
   "name": "python",
   "nbconvert_exporter": "python",
   "pygments_lexer": "ipython3",
   "version": "3.9.16"
  },
  "orig_nbformat": 4
 },
 "nbformat": 4,
 "nbformat_minor": 2
}
