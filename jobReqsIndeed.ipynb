{
 "cells": [
  {
   "cell_type": "code",
   "execution_count": 191,
   "metadata": {},
   "outputs": [],
   "source": [
    "from selenium import webdriver\n",
    "from selenium.webdriver.support.ui import WebDriverWait\n",
    "from selenium.webdriver.common.by import By\n",
    "from selenium.webdriver.support import expected_conditions as EC\n",
    "import pandas as pd\n",
    "import time\n",
    "import re\n",
    "from bs4 import BeautifulSoup as bs"
   ]
  },
  {
   "cell_type": "code",
   "execution_count": 14,
   "metadata": {},
   "outputs": [],
   "source": [
    "# Doesn't work, 403 forbidden response.\n",
    "# HEADERS = {\n",
    "#     \"User-Agent\": \"Mozilla/5.0 (Windows NT 10.0; Win64; x64) AppleWebKit/537.36 (KHTML, like Gecko) Chrome/62.0.3202.94 Safari/537.36\",\n",
    "#     \"Accept-Encoding\": \"gzip, deflate, br\",\n",
    "#     \"Accept\": \"text/html,application/xhtml+xml,application/xml;q=0.9,image/webp,image/apng,*/*;q=0.8\",\n",
    "#     \"Connection\": \"keep-alive\",\n",
    "#     \"Accept-Language\": \"en-US,en;q=0.9,lt;q=0.8,et;q=0.7,de;q=0.6\",\n",
    "# }\n",
    "\n",
    "# response = httpx.get(\"https://www.indeed.com/jobs?q=data+science&l=remote&vjk=96bf68966c7569d7\", header=HEADERS)\n",
    "# print(response)"
   ]
  },
  {
   "cell_type": "code",
   "execution_count": 130,
   "metadata": {},
   "outputs": [],
   "source": [
    "options = webdriver.FirefoxOptions()\n",
    "driver = webdriver.Firefox(options=options)\n",
    "driver.get(\"https://www.indeed.com/jobs?q=data+science&l=remote&vjk=96bf68966c7569d7\")\n",
    "time.sleep(2)\n",
    "\n",
    "soup = bs(driver.page_source)"
   ]
  },
  {
   "cell_type": "code",
   "execution_count": 152,
   "metadata": {},
   "outputs": [],
   "source": [
    "results = soup.find(id=\"jobsearch-Main\")"
   ]
  },
  {
   "cell_type": "code",
   "execution_count": 153,
   "metadata": {},
   "outputs": [],
   "source": [
    "# print(results.prettify())"
   ]
  },
  {
   "cell_type": "code",
   "execution_count": 154,
   "metadata": {},
   "outputs": [],
   "source": [
    "job_elements = results.find_all(\"div\", class_=\"slider_item\")"
   ]
  },
  {
   "cell_type": "code",
   "execution_count": 265,
   "metadata": {},
   "outputs": [
    {
     "name": "stdout",
     "output_type": "stream",
     "text": [
      "Data Scientist\n",
      "Internal Data Resources\n",
      "Remote\n",
      "Estimated $114K - $145K a year\n",
      "5+ years of data science experience with Python, machine learning, and deep learning.\n",
      "One of IDR’s top clients in the is seeking a Data Scientist to join their…\n",
      "\n",
      "\n"
     ]
    }
   ],
   "source": [
    "basePath = \"https://www.indeed.com\"\n",
    "for job_element in job_elements[:1]:\n",
    "    title_element = job_element.find(\"h2\", class_=\"jobTitle\")\n",
    "    company_element = job_element.find(\"span\", class_=\"companyName\")\n",
    "    location_element = job_element.find(\"div\", class_=\"companyLocation\")\n",
    "    salary_element = job_element.find(\"div\", class_=\"metadata\")\n",
    "    jobsnippet_element = job_element.find(\"div\", class_=\"job-snippet\")\n",
    "\n",
    "    link_element_id = job_element.find_all(\"a\")[0][\"id\"]\n",
    "    WebDriverWait(driver, 2).until(EC.element_to_be_clickable((By.XPATH, f'//*[@id=\"{link_element_id}\"]'))).click()\n",
    "    \n",
    "    # desc_elements = job_element.find_element(By.ID, \"jobDescriptionText\")\n",
    "    # print(desc_element.text.strip())\n",
    "    \n",
    "    # test = job_element.find(\"div\", class_=\"jobsearch-jobDescriptionText jobsearch-JobComponent-description css-1axw7mm eu4oa1w0\")\n",
    "    # print(test)\n",
    "    \n",
    "    print(title_element.text.strip())\n",
    "    print(company_element.text.strip())\n",
    "    print(location_element.text.strip())\n",
    "    print(salary_element.text.strip())\n",
    "    print(jobsnippet_element.text.strip())\n",
    "    print(\"\\n\")\n",
    "    # time.sleep(10)"
   ]
  },
  {
   "cell_type": "code",
   "execution_count": 273,
   "metadata": {},
   "outputs": [
    {
     "data": {
      "text/plain": [
       "[]"
      ]
     },
     "execution_count": 273,
     "metadata": {},
     "output_type": "execute_result"
    }
   ],
   "source": [
    "desc_elements = results.find_all(By.XPATH, \"//*contains(@ID, 'jobDescriptionText')\")\n",
    "desc_elements"
   ]
  },
  {
   "cell_type": "markdown",
   "metadata": {},
   "source": [
    "Currently unable to get full job desc from RHS screen after clicking on the link via selenium.  Issue finding the div where id == jobDescriptionText for some reason.\n",
    "\n",
    "Perhaps I'm somehow not holding that info in job_element?  I had thought job_element held a upper-level thing and thus held the children.  Perhaps not.  Need to examine."
   ]
  },
  {
   "cell_type": "markdown",
   "metadata": {},
   "source": []
  }
 ],
 "metadata": {
  "kernelspec": {
   "display_name": ".venv",
   "language": "python",
   "name": "python3"
  },
  "language_info": {
   "codemirror_mode": {
    "name": "ipython",
    "version": 3
   },
   "file_extension": ".py",
   "mimetype": "text/x-python",
   "name": "python",
   "nbconvert_exporter": "python",
   "pygments_lexer": "ipython3",
   "version": "3.9.16"
  },
  "orig_nbformat": 4
 },
 "nbformat": 4,
 "nbformat_minor": 2
}
