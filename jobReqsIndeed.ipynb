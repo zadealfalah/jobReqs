{
 "cells": [
  {
   "cell_type": "code",
   "execution_count": 1,
   "metadata": {},
   "outputs": [],
   "source": [
    "from selenium import webdriver\n",
    "from selenium.webdriver.support.ui import WebDriverWait\n",
    "from selenium.webdriver.common.by import By\n",
    "from selenium.webdriver.support import expected_conditions as EC\n",
    "import pandas as pd\n",
    "import time\n",
    "import json\n",
    "import re\n",
    "from bs4 import BeautifulSoup as bs"
   ]
  },
  {
   "cell_type": "code",
   "execution_count": 9,
   "metadata": {},
   "outputs": [],
   "source": [
    "options = webdriver.FirefoxOptions()\n",
    "driver = webdriver.Firefox(options=options)\n",
    "driver.get(\"https://www.indeed.com/jobs?q=data+science&l=remote\")\n",
    "time.sleep(1)\n",
    "\n",
    "soup = bs(driver.page_source)"
   ]
  },
  {
   "cell_type": "code",
   "execution_count": 10,
   "metadata": {},
   "outputs": [],
   "source": [
    "results = soup.find(id=\"jobsearch-Main\")"
   ]
  },
  {
   "cell_type": "code",
   "execution_count": 11,
   "metadata": {},
   "outputs": [],
   "source": [
    "job_elements = results.find_all(\"div\", class_=\"slider_item\")"
   ]
  },
  {
   "cell_type": "code",
   "execution_count": 16,
   "metadata": {},
   "outputs": [
    {
     "name": "stdout",
     "output_type": "stream",
     "text": [
      "About the Team:\n",
      "Flycast Partners uses ITIL best practices to offer best-in-class implementation services and training in ITSM, ITAM, ITOM, ESM, and WLA spaces. Our professional services team has conducted well over 5600 professional services engagements onsite and remotely. As an organization, Flycast Partners has over 1600 regular customers throughout Canada and the United States. Flycast Partners seeks an experienced professional to join our growing Professional Services Team. The consultant will participate in the design and implementation of various Ivanti ITSM Suite products, including Service Level Agreements (SLA), Configuration Management Database (CMDB), knowledge management, and self-service capabilities. You will communicate with the client and support the overall delivery, including status reporting, dependency management, risk/issue identification, and mitigation.\n",
      "NO RECRUITERS / NO OFFSHORE CANDIDATES\n",
      "Your Impact on the Team:\n",
      "Flycast is seeking a Senior ITSM Integration Consultant who will use their passion to work with clients to provide direct, customer-facing IT technical implementation of ITSM / ITAM / CMDB processes, policies, procedures, and technology to address their regulatory, operational, audit, and reporting requirements. Additionally, this role will require the delivery of ITSM integrations which will require strong development and\\or scripting experience. The Senior ITSM Consultant’s responsibilities include:\n",
      "\n",
      "Analyze, design, configure, debug, maintain new or existing ITSM tool suites systems, preferably Freshworks, Ivanti or Cherwell.\n",
      "Provide leadership for projects and products to ensure usability, usefulness, feasibility, and cost effectiveness of the designed solution.\n",
      "Contribute innovative solutions while utilizing best practices, design standards, and governance.\n",
      "Perform system administration activities including data loading, data migration/conversion, data clean-up tasks, system integration monitoring, etc. and configure product(s) based on customer requirements.\n",
      "Research technology trends and contribute to designs and platform decisions.\n",
      "Lead the development and implementation of a coordinated set of plans and programs for all phases to meet the goals and priorities of the projects.\n",
      "Ability to translate business requirements into product use cases or technical requirements.\n",
      "Demonstrate critical thinking and complex problem-solving skills.\n",
      "Train customers and their teams on the day-to-day use and administration of the product.\n",
      "Ability to multi-task and work on multiple projects and successfully deliver on time.\n",
      "Provide in-depth support and lead problem-solving and implementation efforts for specific technology products or applications.\n",
      "Develop or contribute solutions to various problems of medium to advanced scope and complexity.\n",
      "Be the customer's primary contact during project implementation and display a high sense of urgency and ownership during customer interactions.\n",
      "Experience with IT Asset Management (ITAM) and\\or discovery tools.\n",
      "Mentor, lead, train other team members.\n",
      "\n",
      "Experience Required to Be Successful:\n",
      "\n",
      "Advanced research, analytical, and problem-solving skills.\n",
      "Advanced skills in systems, workflow, and procedural analysis.\n",
      "Advanced organizational, planning, and time management skills.\n",
      "Ability to apply innovative approaches to solve technical design issues.\n",
      "Skilled in troubleshooting and resolving technical problems.\n",
      "Ability to resolve conflicting requests and quickly adapt to changing requirements.\n",
      "Excellent oral, written, and communication problem-solving/analytical skills.\n",
      "Strong client and team engagement skills.\n",
      "Strong customer service skills, including problem de-escalation techniques.\n",
      "Ability to research issues and follow through with a solution(s).\n",
      "Ability to be self-motivated and add value to the organization.\n",
      "Ability to meet deadlines, remain flexible, adhere to project plans, Statement of Work (SOW), and ensure any conflicts are brought to the management team's attention.\n",
      "\n",
      "Desired Qualifications and Experience:\n",
      "\n",
      "Experience with relational database platforms (e.g., Oracle, MS SQL Server, DB2).\n",
      "Knowledge and experience with the Software Development Lifecycle (SDLC).\n",
      "Experience API (e.g., REST, SOAP, etc.) and B2B integrations.\n",
      "Experience with scripting frameworks (e.g., PowerShell, JavaScript, Python).\n",
      "Knowledge of ITIL framework.\n",
      "Ability to clearly articulate technical problems to non-technical stakeholders to provide high customer support and satisfaction.\n",
      "Ability to communicate with senior executives and VIP customers.\n",
      "Ability to work independently with limited guidance and as part of a team.\n",
      "\n",
      "Basic Qualifiers:\n",
      "Education Requirement: Bachelor’s degree in Data Science, Computer Science, Information Technology, or related field.\n",
      "Can Additional Years of Experience Substitute for a Degree? YesDesired Certification(s): ITIL certification\n",
      "Minimum Years of Overall Experience: 10\n",
      "Minimum Years of Specific Experience in the Field: 5\n",
      "Minimum Years of ITSM experience: 3\n",
      "Minimum Clearance to Start: None Required\n",
      "Work Status Allowable: US Citizenship\n",
      "The Type of Person That Will Excel:\n",
      "\n",
      "You are curious, inquisitive, and constantly eager to learn through actions.\n",
      "You have excellent attention to detail.\n",
      "You demonstrate personal accountability and integrity in all actions.\n",
      "You provide excellent customer service.\n",
      "You have excellent analytical, problem-solving, and troubleshooting skills.\n",
      "\n",
      "To apply, please click the ‘APPLY’ button.\n",
      "Equal Employment Opportunity Statement\n",
      "FlyCast Partners, Inc. is an Equal Opportunity Employer. We believe no one should be discriminated against because of their differences, such as age, disability, ethnicity, gender, gender identity and expression, religion, or sexual orientation. Our rich diversity makes us more innovative, more competitive, and more creative, which helps us better serve our clients and our communities.\n",
      "All employment decisions shall be made without regard to age, race, creed, color, religion, sex, national origin, ancestry, disability status, veteran status, sexual orientation, gender identity or expression, genetic information, marital status, citizenship status, or any other basis as protected by federal, state, or local law.\n",
      "Other Employment Statements\n",
      "Applicants for employment in the US must have work authorization that does not now or in the future require sponsorship of a visa for employment authorization in the United States and with FlyCast Partners.\n",
      "Work Location:\n",
      "This position will primarily be remote, with travel as necessary per client requirements.\n",
      "Job Type: Full-time\n",
      "Pay: $100,000.00 - $130,000.00 per year\n",
      "Benefits:\n",
      "\n",
      "401(k)\n",
      "401(k) matching\n",
      "Dental insurance\n",
      "Flexible spending account\n",
      "Health insurance\n",
      "Health savings account\n",
      "Life insurance\n",
      "Paid time off\n",
      "Vision insurance\n",
      "\n",
      "COVID-19 considerations:Our teammates are currently working remotely.\n",
      "Education:\n",
      "\n",
      "Bachelor's (Preferred)\n",
      "\n",
      "Experience:\n",
      "\n",
      "Overall: 10 years (Preferred)\n",
      "\n",
      "License/Certification:\n",
      "\n",
      "ITIL Certification (Preferred)\n",
      "\n",
      "Work Location: Remote\n"
     ]
    }
   ],
   "source": [
    "basePath = \"https://www.indeed.com\"\n",
    "d = {}\n",
    "# Currently using link_element_id as unique ID.  I am fairly sure it's unique - at least it has been from what I've seen so far.\n",
    "for job_element in job_elements[:1]:\n",
    "    link_element_id = job_element.find_all(\"a\")[0][\"id\"]\n",
    "\n",
    "    d[link_element_id] = {}\n",
    "    d[link_element_id][\"title\"] = job_element.find(\"h2\", class_=\"jobTitle\").text.strip()\n",
    "    d[link_element_id]['company'] = job_element.find(\"span\", class_=\"companyName\").text.strip()\n",
    "    d[link_element_id]['posted'] = job_element.find(\"span\", class_=\"date\").next_element.next_element.next_element\n",
    "    try:\n",
    "        d[link_element_id]['location'] = job_element.find(\"div\", class_=\"companyLocation\").text.strip()\n",
    "    except AttributeError: \n",
    "        d[link_element_id]['location'] = \"Not Listed\"\n",
    "    try:\n",
    "        d[link_element_id]['salary'] = job_element.find(\"div\", class_=\"metadata\").text.strip()\n",
    "    except AttributeError:\n",
    "        d[link_element_id]['salary'] = \"Not Listed\"\n",
    "    # date_element = job_element.find(\"div\", class_=\"visually-hidden\")  # not useful as-is.  figure out if this is possible to find at all\n",
    "\n",
    "    WebDriverWait(driver, 2).until(EC.element_to_be_clickable((By.XPATH, f'//*[@id=\"{link_element_id}\"]'))).click()\n",
    "\n",
    "    temp_results = soup.find(\"div\", id='jobDescriptionText')\n",
    "    print(temp_results.text.strip())\n",
    "    # print(d[link_element_id]['title'], d[link_element_id]['company'])\n",
    "    d[link_element_id]['desc'] = temp_results.text.strip()\n",
    "\n",
    "# print(title_element.text.strip())\n",
    "# print(company_element.text.strip())\n",
    "# print(location_element.text.strip())\n",
    "# print(salary_element.text.strip())\n",
    "# print(jobsnippet_element.text.strip())\n",
    "# print(full_desc_element)\n",
    "# print(\"\\n\")\n",
    "# time.sleep(10)"
   ]
  },
  {
   "cell_type": "code",
   "execution_count": 14,
   "metadata": {},
   "outputs": [
    {
     "data": {
      "text/plain": [
       "{'sj_f2a592f5b5cfbc41': {'title': 'Senior ITSM Consultant',\n",
       "  'company': 'Flycast Partners',\n",
       "  'posted': 'Active 2 days ago',\n",
       "  'location': 'Remote',\n",
       "  'salary': '$100,000 - $130,000 a year',\n",
       "  'desc': \"About the Team:\\nFlycast Partners uses ITIL best practices to offer best-in-class implementation services and training in ITSM, ITAM, ITOM, ESM, and WLA spaces. Our professional services team has conducted well over 5600 professional services engagements onsite and remotely. As an organization, Flycast Partners has over 1600 regular customers throughout Canada and the United States. Flycast Partners seeks an experienced professional to join our growing Professional Services Team. The consultant will participate in the design and implementation of various Ivanti ITSM Suite products, including Service Level Agreements (SLA), Configuration Management Database (CMDB), knowledge management, and self-service capabilities. You will communicate with the client and support the overall delivery, including status reporting, dependency management, risk/issue identification, and mitigation.\\nNO RECRUITERS / NO OFFSHORE CANDIDATES\\nYour Impact on the Team:\\nFlycast is seeking a Senior ITSM Integration Consultant who will use their passion to work with clients to provide direct, customer-facing IT technical implementation of ITSM / ITAM / CMDB processes, policies, procedures, and technology to address their regulatory, operational, audit, and reporting requirements. Additionally, this role will require the delivery of ITSM integrations which will require strong development and\\\\or scripting experience. The Senior ITSM Consultant’s responsibilities include:\\n\\nAnalyze, design, configure, debug, maintain new or existing ITSM tool suites systems, preferably Freshworks, Ivanti or Cherwell.\\nProvide leadership for projects and products to ensure usability, usefulness, feasibility, and cost effectiveness of the designed solution.\\nContribute innovative solutions while utilizing best practices, design standards, and governance.\\nPerform system administration activities including data loading, data migration/conversion, data clean-up tasks, system integration monitoring, etc. and configure product(s) based on customer requirements.\\nResearch technology trends and contribute to designs and platform decisions.\\nLead the development and implementation of a coordinated set of plans and programs for all phases to meet the goals and priorities of the projects.\\nAbility to translate business requirements into product use cases or technical requirements.\\nDemonstrate critical thinking and complex problem-solving skills.\\nTrain customers and their teams on the day-to-day use and administration of the product.\\nAbility to multi-task and work on multiple projects and successfully deliver on time.\\nProvide in-depth support and lead problem-solving and implementation efforts for specific technology products or applications.\\nDevelop or contribute solutions to various problems of medium to advanced scope and complexity.\\nBe the customer's primary contact during project implementation and display a high sense of urgency and ownership during customer interactions.\\nExperience with IT Asset Management (ITAM) and\\\\or discovery tools.\\nMentor, lead, train other team members.\\n\\nExperience Required to Be Successful:\\n\\nAdvanced research, analytical, and problem-solving skills.\\nAdvanced skills in systems, workflow, and procedural analysis.\\nAdvanced organizational, planning, and time management skills.\\nAbility to apply innovative approaches to solve technical design issues.\\nSkilled in troubleshooting and resolving technical problems.\\nAbility to resolve conflicting requests and quickly adapt to changing requirements.\\nExcellent oral, written, and communication problem-solving/analytical skills.\\nStrong client and team engagement skills.\\nStrong customer service skills, including problem de-escalation techniques.\\nAbility to research issues and follow through with a solution(s).\\nAbility to be self-motivated and add value to the organization.\\nAbility to meet deadlines, remain flexible, adhere to project plans, Statement of Work (SOW), and ensure any conflicts are brought to the management team's attention.\\n\\nDesired Qualifications and Experience:\\n\\nExperience with relational database platforms (e.g., Oracle, MS SQL Server, DB2).\\nKnowledge and experience with the Software Development Lifecycle (SDLC).\\nExperience API (e.g., REST, SOAP, etc.) and B2B integrations.\\nExperience with scripting frameworks (e.g., PowerShell, JavaScript, Python).\\nKnowledge of ITIL framework.\\nAbility to clearly articulate technical problems to non-technical stakeholders to provide high customer support and satisfaction.\\nAbility to communicate with senior executives and VIP customers.\\nAbility to work independently with limited guidance and as part of a team.\\n\\nBasic Qualifiers:\\nEducation Requirement: Bachelor’s degree in Data Science, Computer Science, Information Technology, or related field.\\nCan Additional Years of Experience Substitute for a Degree? YesDesired Certification(s): ITIL certification\\nMinimum Years of Overall Experience: 10\\nMinimum Years of Specific Experience in the Field: 5\\nMinimum Years of ITSM experience: 3\\nMinimum Clearance to Start: None Required\\nWork Status Allowable: US Citizenship\\nThe Type of Person That Will Excel:\\n\\nYou are curious, inquisitive, and constantly eager to learn through actions.\\nYou have excellent attention to detail.\\nYou demonstrate personal accountability and integrity in all actions.\\nYou provide excellent customer service.\\nYou have excellent analytical, problem-solving, and troubleshooting skills.\\n\\nTo apply, please click the ‘APPLY’ button.\\nEqual Employment Opportunity Statement\\nFlyCast Partners, Inc. is an Equal Opportunity Employer. We believe no one should be discriminated against because of their differences, such as age, disability, ethnicity, gender, gender identity and expression, religion, or sexual orientation. Our rich diversity makes us more innovative, more competitive, and more creative, which helps us better serve our clients and our communities.\\nAll employment decisions shall be made without regard to age, race, creed, color, religion, sex, national origin, ancestry, disability status, veteran status, sexual orientation, gender identity or expression, genetic information, marital status, citizenship status, or any other basis as protected by federal, state, or local law.\\nOther Employment Statements\\nApplicants for employment in the US must have work authorization that does not now or in the future require sponsorship of a visa for employment authorization in the United States and with FlyCast Partners.\\nWork Location:\\nThis position will primarily be remote, with travel as necessary per client requirements.\\nJob Type: Full-time\\nPay: $100,000.00 - $130,000.00 per year\\nBenefits:\\n\\n401(k)\\n401(k) matching\\nDental insurance\\nFlexible spending account\\nHealth insurance\\nHealth savings account\\nLife insurance\\nPaid time off\\nVision insurance\\n\\nCOVID-19 considerations:Our teammates are currently working remotely.\\nEducation:\\n\\nBachelor's (Preferred)\\n\\nExperience:\\n\\nOverall: 10 years (Preferred)\\n\\nLicense/Certification:\\n\\nITIL Certification (Preferred)\\n\\nWork Location: Remote\"}}"
      ]
     },
     "execution_count": 14,
     "metadata": {},
     "output_type": "execute_result"
    }
   ],
   "source": [
    "d"
   ]
  },
  {
   "cell_type": "markdown",
   "metadata": {},
   "source": [
    "Once I can get the full job desc, I will want to do the following:\n",
    "For each job, create a JSON object for it.  Each JSON object will have a structure like\n",
    "\n",
    "{ \"title\":job_title, \"company\":company_name, \"location\":job_location, \"salary\":job_salary, \"snippet\":job_desc_snippet, \"desc\":full_job_desc, \"tags\":search_terms_used_to_find_job}\n",
    "\n",
    "I want a way to go through and if the same job is repeated, add on to the tags in the proper json.  Can do this by instead building it as a dict, appending to the \"tags\" key so then search_terms_used_to_find_job is instead a list thereof, and the list is appended with the new search terms before being json-ified."
   ]
  },
  {
   "cell_type": "markdown",
   "metadata": {},
   "source": [
    "Need to figure out if I can / how to get the date posted.\n",
    "\n",
    "Need to figure out if the job ID on indeed is unique.  If I can't figure it out, may need my own unique ID for each\n",
    "\n",
    "Probably remove the job desc snippet since I have full descs now\n",
    "\n",
    "Need to figure out how to go through all pages\n",
    "\n",
    "Need to add tags for search params\n",
    "\n",
    "Can use: https://scrapfly.io/blog/how-to-scrape-indeedcom/\n",
    "To see how to better optimize this search.  Both for making searching more dynamic as well as using async IO to speed it up"
   ]
  }
 ],
 "metadata": {
  "kernelspec": {
   "display_name": ".venv",
   "language": "python",
   "name": "python3"
  },
  "language_info": {
   "codemirror_mode": {
    "name": "ipython",
    "version": 3
   },
   "file_extension": ".py",
   "mimetype": "text/x-python",
   "name": "python",
   "nbconvert_exporter": "python",
   "pygments_lexer": "ipython3",
   "version": "3.9.16"
  },
  "orig_nbformat": 4
 },
 "nbformat": 4,
 "nbformat_minor": 2
}
