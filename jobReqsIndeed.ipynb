{
 "cells": [
  {
   "cell_type": "code",
   "execution_count": 26,
   "metadata": {},
   "outputs": [],
   "source": [
    "from selenium import webdriver\n",
    "from selenium.webdriver.support.ui import WebDriverWait\n",
    "from selenium.webdriver.common.by import By\n",
    "from selenium.webdriver.support import expected_conditions as EC\n",
    "import pandas as pd\n",
    "import time\n",
    "import json\n",
    "import re\n",
    "from bs4 import BeautifulSoup as bs"
   ]
  },
  {
   "cell_type": "code",
   "execution_count": 34,
   "metadata": {},
   "outputs": [],
   "source": [
    "options = webdriver.FirefoxOptions()\n",
    "driver = webdriver.Firefox(options=options)\n",
    "driver.get(\"https://www.indeed.com/jobs?q=data+science&l=remote\")\n",
    "time.sleep(1)\n",
    "\n",
    "soup = bs(driver.page_source, features='html.parser')"
   ]
  },
  {
   "cell_type": "code",
   "execution_count": 35,
   "metadata": {},
   "outputs": [],
   "source": [
    "results = soup.find(id=\"jobsearch-Main\")"
   ]
  },
  {
   "cell_type": "code",
   "execution_count": 36,
   "metadata": {},
   "outputs": [],
   "source": [
    "job_elements = soup.find_all(\"div\", class_=\"slider_item\")"
   ]
  },
  {
   "cell_type": "code",
   "execution_count": 38,
   "metadata": {},
   "outputs": [
    {
     "name": "stdout",
     "output_type": "stream",
     "text": [
      "{'sj_885612f252daab9d': {'title': 'Security Research Manager (Data Science)', 'company': 'Engtal', 'posted': 'Active 2 days ago', 'location': 'Remote', 'salary': '$200,000 - $225,000 a year'}}\n",
      "Security Research Manager (Data)Remote, US $225k Salary + Excellent Package\n",
      "I am partnered exclusively with an exciting technology leader in the Cyber Security space, searching for a Security Research Manager as part of a brand new position within the Product team.\n",
      "This industry leader is redefining how organizations handle exposure, performance, and risk, both for themselves and their partners. Businesses place their trust in this innovative company to guide their cybersecurity investments, foster trust within their network, and mitigate financial vulnerabilities.\n",
      "The Product Research team works directly with the groups varied customer base to define user driven technology and ensure the organizations methodologies focus on solving key challenges within the industry. The Security Research Manager will be involved with investigating and prototyping new potential product capabilities. As the manager you will be tasked with building out a multifaceted security research team that addresses a broad range of strategic technical challenges.\n",
      "This role will be ideally suited to a technical leader with a mix of security and data science skills who is eager to build out a research team and influence the future technology investments of my client’s platform.\n",
      "Key Responsibilities:\n",
      "\n",
      "Set strategic priorities for the development of new data collection prototypes, big-data analytics pipelines, and risk assessment methodologies.\n",
      "Collaborate closely with product and engineering teams to align development roadmaps and transition research prototypes to production environments.\n",
      "Translate long-term strategic business challenges into actionable technical research plans.\n",
      "Recruit, train, and nurture a global team of security researchers with diverse skill sets.\n",
      "Communicate research findings effectively to business stakeholders, providing data-driven recommendations for processes, priorities, and investments.\n",
      "Establish and oversee quality assurance processes for team research and data.\n",
      "Generate innovative product features and improvements based on emerging security trends and capabilities.\n",
      "Identify, establish, and manage data partnership opportunities in coordination with Data Operations by assessing the value of third-party data sources.\n",
      "Support marketing efforts and customer interactions by highlighting key findings and capabilities, and elucidating product data and rating concepts.\n",
      "Hands on involvement in prototyping and programming review\n",
      "\n",
      "Qualifications:\n",
      "\n",
      "Robust technical background with specialized knowledge in networking and information security.\n",
      "Proficiency in communication and analytical skills, including the capacity to resolve intricate problems.\n",
      "Previous experience in spearheading research initiatives and managing teams.\n",
      "Proficient in standard scripting languages (ideally python) and database technologies.\n",
      "A proven track record in conducting security data analysis and delivering insightful presentations.\n",
      "Ability to execute statistical experiments and swiftly develop prototypes.\n",
      "\n",
      "Education:\n",
      "\n",
      "A degree in Computer Science, or a related field (B.S./M.S.), or equivalent practical experience.\n",
      "\n",
      "This is an excellent opportunity to play a lead role within an industry pioneer, for a company that invests heavily in the personal and professional development of its employees. For more information, please contact Gareth Braun of Engtal who is managing the search.\n",
      "Job Type: Full-time\n",
      "Pay: $200,000.00 - $225,000.00 per year\n",
      "Benefits:\n",
      "\n",
      "401(k)\n",
      "401(k) matching\n",
      "Dental insurance\n",
      "Health insurance\n",
      "Paid time off\n",
      "Vision insurance\n",
      "\n",
      "Schedule:\n",
      "\n",
      "Monday to Friday\n",
      "\n",
      "Supplemental pay types:\n",
      "\n",
      "Bonus opportunities\n",
      "\n",
      "Work Location: Remote\n"
     ]
    }
   ],
   "source": [
    "basePath = \"https://www.indeed.com\"\n",
    "d = {}\n",
    "# Currently using link_element_id as unique ID.  I am fairly sure it's unique - at least it has been from what I've seen so far.\n",
    "for job_element in job_elements[:1]:\n",
    "    link_element_id = job_element.find_all(\"a\")[0][\"id\"]\n",
    "\n",
    "    d[link_element_id] = {}\n",
    "    d[link_element_id][\"title\"] = job_element.find(\"h2\", class_=\"jobTitle\").text.strip()\n",
    "    d[link_element_id]['company'] = job_element.find(\"span\", class_=\"companyName\").text.strip()\n",
    "    d[link_element_id]['posted'] = job_element.find(\"span\", class_=\"date\").next_element.next_element.next_element\n",
    "    try:\n",
    "        d[link_element_id]['location'] = job_element.find(\"div\", class_=\"companyLocation\").text.strip()\n",
    "    except AttributeError: \n",
    "        d[link_element_id]['location'] = \"Not Listed\"\n",
    "    try:\n",
    "        d[link_element_id]['salary'] = job_element.find(\"div\", class_=\"metadata\").text.strip()\n",
    "    except AttributeError:\n",
    "        d[link_element_id]['salary'] = \"Not Listed\"\n",
    "    # date_element = job_element.find(\"div\", class_=\"visually-hidden\")  # not useful as-is.  figure out if this is possible to find at all\n",
    "\n",
    "    WebDriverWait(driver, 2).until(EC.element_to_be_clickable((By.XPATH, f'//*[@id=\"{link_element_id}\"]'))).click()\n",
    "    WebDriverWait(driver, 5).until(EC.element_to_be_clickable((By.XPATH, f'//*[@id=\"jobDescriptionText\"]')))\n",
    "    temp_results = results.find(\"div\", id=\"jobDescriptionText\")\n",
    "    # print(d[link_element_id]['title'], d[link_element_id]['company'])\n",
    "    print(d)\n",
    "    print(temp_results.text.strip())\n",
    "    d[link_element_id]['desc'] = temp_results.text.strip()"
   ]
  },
  {
   "cell_type": "code",
   "execution_count": 39,
   "metadata": {},
   "outputs": [
    {
     "data": {
      "text/plain": [
       "{'sj_885612f252daab9d': {'title': 'Security Research Manager (Data Science)',\n",
       "  'company': 'Engtal',\n",
       "  'posted': 'Active 2 days ago',\n",
       "  'location': 'Remote',\n",
       "  'salary': '$200,000 - $225,000 a year',\n",
       "  'desc': 'Security Research Manager (Data)Remote, US $225k Salary + Excellent Package\\nI am partnered exclusively with an exciting technology leader in the Cyber Security space, searching for a Security Research Manager as part of a brand new position within the Product team.\\nThis industry leader is redefining how organizations handle exposure, performance, and risk, both for themselves and their partners. Businesses place their trust in this innovative company to guide their cybersecurity investments, foster trust within their network, and mitigate financial vulnerabilities.\\nThe Product Research team works directly with the groups varied customer base to define user driven technology and ensure the organizations methodologies focus on solving key challenges within the industry. The Security Research Manager will be involved with investigating and prototyping new potential product capabilities. As the manager you will be tasked with building out a multifaceted security research team that addresses a broad range of strategic technical challenges.\\nThis role will be ideally suited to a technical leader with a mix of security and data science skills who is eager to build out a research team and influence the future technology investments of my client’s platform.\\nKey Responsibilities:\\n\\nSet strategic priorities for the development of new data collection prototypes, big-data analytics pipelines, and risk assessment methodologies.\\nCollaborate closely with product and engineering teams to align development roadmaps and transition research prototypes to production environments.\\nTranslate long-term strategic business challenges into actionable technical research plans.\\nRecruit, train, and nurture a global team of security researchers with diverse skill sets.\\nCommunicate research findings effectively to business stakeholders, providing data-driven recommendations for processes, priorities, and investments.\\nEstablish and oversee quality assurance processes for team research and data.\\nGenerate innovative product features and improvements based on emerging security trends and capabilities.\\nIdentify, establish, and manage data partnership opportunities in coordination with Data Operations by assessing the value of third-party data sources.\\nSupport marketing efforts and customer interactions by highlighting key findings and capabilities, and elucidating product data and rating concepts.\\nHands on involvement in prototyping and programming review\\n\\nQualifications:\\n\\nRobust technical background with specialized knowledge in networking and information security.\\nProficiency in communication and analytical skills, including the capacity to resolve intricate problems.\\nPrevious experience in spearheading research initiatives and managing teams.\\nProficient in standard scripting languages (ideally python) and database technologies.\\nA proven track record in conducting security data analysis and delivering insightful presentations.\\nAbility to execute statistical experiments and swiftly develop prototypes.\\n\\nEducation:\\n\\nA degree in Computer Science, or a related field (B.S./M.S.), or equivalent practical experience.\\n\\nThis is an excellent opportunity to play a lead role within an industry pioneer, for a company that invests heavily in the personal and professional development of its employees. For more information, please contact Gareth Braun of Engtal who is managing the search.\\nJob Type: Full-time\\nPay: $200,000.00 - $225,000.00 per year\\nBenefits:\\n\\n401(k)\\n401(k) matching\\nDental insurance\\nHealth insurance\\nPaid time off\\nVision insurance\\n\\nSchedule:\\n\\nMonday to Friday\\n\\nSupplemental pay types:\\n\\nBonus opportunities\\n\\nWork Location: Remote'}}"
      ]
     },
     "execution_count": 39,
     "metadata": {},
     "output_type": "execute_result"
    }
   ],
   "source": [
    "d"
   ]
  },
  {
   "cell_type": "markdown",
   "metadata": {},
   "source": [
    "Once I can get the full job desc, I will want to do the following:\n",
    "For each job, create a JSON object for it.  Each JSON object will have a structure like\n",
    "\n",
    "{ \"title\":job_title, \"company\":company_name, \"location\":job_location, \"salary\":job_salary, \"snippet\":job_desc_snippet, \"desc\":full_job_desc, \"tags\":search_terms_used_to_find_job}\n",
    "\n",
    "I want a way to go through and if the same job is repeated, add on to the tags in the proper json.  Can do this by instead building it as a dict, appending to the \"tags\" key so then search_terms_used_to_find_job is instead a list thereof, and the list is appended with the new search terms before being json-ified."
   ]
  },
  {
   "cell_type": "markdown",
   "metadata": {},
   "source": [
    "Need to figure out if I can / how to get the date posted.\n",
    "\n",
    "Need to figure out if the job ID on indeed is unique.  If I can't figure it out, may need my own unique ID for each\n",
    "\n",
    "Probably remove the job desc snippet since I have full descs now\n",
    "\n",
    "Need to figure out how to go through all pages\n",
    "\n",
    "Need to add tags for search params\n",
    "\n",
    "Can use: https://scrapfly.io/blog/how-to-scrape-indeedcom/\n",
    "To see how to better optimize this search.  Both for making searching more dynamic as well as using async IO to speed it up"
   ]
  }
 ],
 "metadata": {
  "kernelspec": {
   "display_name": ".venv",
   "language": "python",
   "name": "python3"
  },
  "language_info": {
   "codemirror_mode": {
    "name": "ipython",
    "version": 3
   },
   "file_extension": ".py",
   "mimetype": "text/x-python",
   "name": "python",
   "nbconvert_exporter": "python",
   "pygments_lexer": "ipython3",
   "version": "3.9.16"
  },
  "orig_nbformat": 4
 },
 "nbformat": 4,
 "nbformat_minor": 2
}
