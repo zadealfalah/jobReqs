{
 "cells": [
  {
   "cell_type": "code",
   "execution_count": null,
   "metadata": {},
   "outputs": [],
   "source": [
    "from sklearn.feature_extraction.text import TfidfVectorizer\n",
    "from sklearn.model_selection import train_test_split\n",
    "from sklearn.linear_model import LogisticRegression\n",
    "from sklearn.metrics import confusion_matrix, accuracy_score\n",
    "import seaborn as sns\n",
    "import matplotlib.pyplot as plt\n",
    "import spacy\n",
    "import pickle"
   ]
  },
  {
   "cell_type": "code",
   "execution_count": null,
   "metadata": {},
   "outputs": [],
   "source": [
    "nlp = spacy.load(\"en_core_web_sm\")"
   ]
  },
  {
   "cell_type": "code",
   "execution_count": null,
   "metadata": {},
   "outputs": [],
   "source": [
    "# Read in the saved, labeled data\n",
    "with open(fr\"data/classifier_data/labelled_01.txt\", encoding='utf8') as f:\n",
    "    data = f.read()"
   ]
  },
  {
   "cell_type": "code",
   "execution_count": null,
   "metadata": {},
   "outputs": [],
   "source": [
    "labeled_data = [(textstr, int(label.strip())) for textstr, label in list(eval(data))]"
   ]
  },
  {
   "cell_type": "code",
   "execution_count": null,
   "metadata": {},
   "outputs": [],
   "source": [
    "X_vals = [textstr for textstr, label in list(eval(data))] #212 labelled paragraphs rn\n",
    "y_vals = [int(label.strip()) for textstr, label in list(eval(data))]"
   ]
  },
  {
   "cell_type": "code",
   "execution_count": null,
   "metadata": {},
   "outputs": [],
   "source": [
    "print(f\"About {round(y_vals.count(1)/len(y_vals),2)*100}% of our labeled data contain tech names, leaving about {round(y_vals.count(0)/len(y_vals),2)*100}% which do not.\")"
   ]
  },
  {
   "cell_type": "code",
   "execution_count": null,
   "metadata": {},
   "outputs": [],
   "source": [
    "# Tokenize/preprocess text using spacy\n",
    "processed = [\" \".join([token.lemma_ for token in nlp(paragraph)]) for paragraph in X_vals]\n",
    "X_train, X_test, y_train, y_test = train_test_split(processed, y_vals, test_size=0.2, random_state=10)"
   ]
  },
  {
   "cell_type": "code",
   "execution_count": null,
   "metadata": {},
   "outputs": [],
   "source": [
    "tfidf_vectorizer = TfidfVectorizer(max_features=1000) #Small # features, shouldn't need to set max_features here I don't think?\n",
    "X_train_tfidf = tfidf_vectorizer.fit_transform(X_train)\n",
    "X_test_tfidf = tfidf_vectorizer.transform(X_test)\n",
    "\n",
    "clf = LogisticRegression()\n",
    "clf.fit(X_train_tfidf, y_train)"
   ]
  },
  {
   "cell_type": "code",
   "execution_count": null,
   "metadata": {},
   "outputs": [],
   "source": [
    "acc = clf.score(X_test_tfidf, y_test)\n",
    "print(acc)"
   ]
  },
  {
   "cell_type": "code",
   "execution_count": null,
   "metadata": {},
   "outputs": [],
   "source": [
    "y_pred = clf.predict(X_test_tfidf)"
   ]
  },
  {
   "cell_type": "code",
   "execution_count": null,
   "metadata": {},
   "outputs": [],
   "source": [
    "cm = confusion_matrix(y_test, y_pred)\n",
    "sns.heatmap(cm, annot=True, fmt='d')\n",
    "plt.xlabel(\"Predicted\")\n",
    "plt.ylabel(\"True\")\n",
    "plt.show()"
   ]
  },
  {
   "cell_type": "code",
   "execution_count": null,
   "metadata": {},
   "outputs": [],
   "source": [
    "# save our model and vectorizer\n",
    "# with open(\"job_desc_classifier_v1.0.pkl\", \"wb\") as model_file:\n",
    "#     pickle.dump(clf, model_file)\n",
    "# with open(\"job_desc_tfidf_vectorizerv1.0.pkl\", \"wb\") as vect_file:\n",
    "#     pickle.dump(tfidf_vectorizer, vect_file)"
   ]
  },
  {
   "cell_type": "code",
   "execution_count": null,
   "metadata": {},
   "outputs": [],
   "source": [
    "# # To re-use the saved model:\n",
    "# with open(\"job_desc_classifier_v1.0.pkl\", \"rb\") as model_file:\n",
    "#     clf = pickle.load(model_file)\n",
    "# with open(\"job_desc_tfidf_vectorizerv1.0.pkl\", \"rb\") as vect_file:\n",
    "#     tfidf_vectorizer = pickle.load(vect_file)"
   ]
  }
 ],
 "metadata": {
  "language_info": {
   "name": "python"
  },
  "orig_nbformat": 4
 },
 "nbformat": 4,
 "nbformat_minor": 2
}
