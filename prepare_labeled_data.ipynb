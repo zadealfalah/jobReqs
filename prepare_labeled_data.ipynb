{
 "cells": [
  {
   "cell_type": "code",
   "execution_count": null,
   "metadata": {},
   "outputs": [],
   "source": [
    "from itertools import chain\n",
    "import json\n",
    "from random import seed, sample\n",
    "import re"
   ]
  },
  {
   "cell_type": "code",
   "execution_count": null,
   "metadata": {},
   "outputs": [],
   "source": [
    "# Get all job descs from whatever training data I want\n",
    "job_desc_list = []\n",
    "with open(fr\"data/raw_data-09-09-23.json\") as f:\n",
    "    data = json.load(f)\n",
    "for key in list(data.keys()):\n",
    "    if key.startswith(\"metadata\"):\n",
    "        continue\n",
    "    else:\n",
    "        job_desc_list.append(data[key]['desc'])"
   ]
  },
  {
   "cell_type": "code",
   "execution_count": null,
   "metadata": {},
   "outputs": [],
   "source": [
    "#not many jobs in total here, randomly sample half of them to label. set seed for reproducability\n",
    "seed(10) \n",
    "jobs_to_label = sample(job_desc_list, int(len(job_desc_list)/2))"
   ]
  },
  {
   "cell_type": "code",
   "execution_count": null,
   "metadata": {},
   "outputs": [],
   "source": [
    "def split_text_to_nths(text, nths):\n",
    "    \"Splits the text roughly into 'n'ths e.g. if n=10, to 10ths\"\n",
    "    n_nlines = text.count('\\n')\n",
    "    num_to_split = n_nlines // nths #number of newlines to split at to get roughly 10ths in each text output\n",
    "    split_text = re.findall(\"\\n\".join([\"[^\\n]+\"]*num_to_split), text)\n",
    "    return [(x.strip(), \" \") for x in split_text]  # leave a space after each one for a 0/1 label for binary classifier"
   ]
  },
  {
   "cell_type": "code",
   "execution_count": null,
   "metadata": {},
   "outputs": [],
   "source": [
    "all_split_texts = []\n",
    "for text in jobs_to_label:\n",
    "    all_split_texts.append(split_text_to_nths(text, 5))"
   ]
  },
  {
   "cell_type": "code",
   "execution_count": null,
   "metadata": {},
   "outputs": [],
   "source": [
    "# turns list of lists into just one big list.\n",
    "print(list(chain.from_iterable(all_split_texts)))"
   ]
  },
  {
   "cell_type": "markdown",
   "metadata": {},
   "source": [
    "Gives us a list of job descs to label.  We take these, paste them into a text editor and label with 1's or 0's. 1 if a tech skill is in the paragraph, 0 otherwise."
   ]
  }
 ],
 "metadata": {
  "language_info": {
   "name": "python"
  },
  "orig_nbformat": 4
 },
 "nbformat": 4,
 "nbformat_minor": 2
}
