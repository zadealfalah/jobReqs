{
 "cells": [
  {
   "cell_type": "markdown",
   "metadata": {},
   "source": [
    "These actually don't have terms even.  Means we can't re-run them as we don't know what search terms they originated from.  Could just get the desc but defeats the purpose of this project.  Instead, just remove them if they are empty."
   ]
  },
  {
   "cell_type": "code",
   "execution_count": 1,
   "metadata": {},
   "outputs": [],
   "source": [
    "import json"
   ]
  },
  {
   "cell_type": "code",
   "execution_count": 3,
   "metadata": {},
   "outputs": [],
   "source": [
    "with open(f\"data/raw_data-14-09-23.json\") as f:\n",
    "    data = json.load(f)"
   ]
  },
  {
   "cell_type": "code",
   "execution_count": 12,
   "metadata": {},
   "outputs": [],
   "source": [
    "empty_desc_jobs = []\n",
    "for key in list(data.keys()):\n",
    "    if key == \"metadata\":\n",
    "        continue\n",
    "    if \"desc\" not in data[key]:\n",
    "        empty_desc_jobs.append(key)"
   ]
  },
  {
   "cell_type": "code",
   "execution_count": 16,
   "metadata": {},
   "outputs": [
    {
     "name": "stdout",
     "output_type": "stream",
     "text": [
      "1330705db71d395a\n",
      "{'terms': []}\n",
      "ab041d35bc439d44\n",
      "{'terms': []}\n"
     ]
    }
   ],
   "source": [
    "for job in empty_desc_jobs:\n",
    "    print(job)\n",
    "    print(data[job])"
   ]
  },
  {
   "cell_type": "code",
   "execution_count": null,
   "metadata": {},
   "outputs": [],
   "source": []
  }
 ],
 "metadata": {
  "kernelspec": {
   "display_name": ".venv",
   "language": "python",
   "name": "python3"
  },
  "language_info": {
   "codemirror_mode": {
    "name": "ipython",
    "version": 3
   },
   "file_extension": ".py",
   "mimetype": "text/x-python",
   "name": "python",
   "nbconvert_exporter": "python",
   "pygments_lexer": "ipython3",
   "version": "3.9.16"
  },
  "orig_nbformat": 4
 },
 "nbformat": 4,
 "nbformat_minor": 2
}
