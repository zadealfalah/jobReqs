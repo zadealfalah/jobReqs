{
 "cells": [
  {
   "cell_type": "code",
   "execution_count": 1,
   "metadata": {},
   "outputs": [],
   "source": [
    "import pandas\n",
    "import json\n",
    "import openai\n",
    "from dotenv import load_dotenv\n",
    "import os"
   ]
  },
  {
   "cell_type": "code",
   "execution_count": 2,
   "metadata": {},
   "outputs": [],
   "source": [
    "load_dotenv()\n",
    "api_key = os.getenv(\"openai_api_key\")"
   ]
  },
  {
   "cell_type": "code",
   "execution_count": 3,
   "metadata": {},
   "outputs": [],
   "source": [
    "# Init openai api client\n",
    "openai.api_key = api_key"
   ]
  },
  {
   "cell_type": "code",
   "execution_count": 19,
   "metadata": {},
   "outputs": [],
   "source": [
    "f = open(\"07-09-23-q-data+science-data+analysis-data+engineer-mle-machine+learning-mlops-l-remote.json\")\n",
    "data = json.load(f)\n",
    "test_descs = []\n",
    "for key in list(data.keys()):\n",
    "    test_descs.append(data[key]['desc'])"
   ]
  },
  {
   "cell_type": "code",
   "execution_count": 9,
   "metadata": {},
   "outputs": [
    {
     "data": {
      "text/plain": [
       "\"This role is with Figma. Figma uses RippleMatch to find top talent. \\n  Figma is growing our team of passionate people on a mission to make design accessible to all. Born on the Web, Figma helps entire product teams brainstorm, create, test, and ship better designs, together. From great products to long-lasting companies, we believe that nothing great is made alone—come make with us! \\n  The Data Science team at Figma partners directly with our product and engineering teams to uncover insights, influence decision making, and apply a data lens to business problems critical to Figma's growth. Our work is diverse and evolving. As a member of our team, you will have the opportunity to work on a wide range of technical challenges from data engineering, analytics, experimentation, and machine learning. We seek data scientists with strong coding and statistics fundamentals and who are excellent communicators among technical and non-technical audiences. \\n \\n \\n  What you'll do at Figma: \\n \\n Collaborate with cross-functional teams including Product, Engineering, Research, Design, Sales, and Marketing to turn business questions into data problems \\n Evaluate experiments to measure the impact of product changes \\n Define and surface metrics to guide decision making \\n Communicate and document data logging and requirements \\n Build models to understand user behavior and predict growth \\n Provide thoughtful feedback to others on the team \\n \\n In your first few months, you'll: \\n \\n Work with an onboarding buddy to make your first edits to our data tables and dashboards \\n Start to build deep context and expertise in Figma's data and product \\n Deliver your first product analysis \\n \\n We'd love to hear from you if you have: \\n \\n A strong baseline in statistics, Computer Science, Mathematics, Economics or other quantitative field \\n Experience with R, Python, or similar scripting language \\n Firm knowledge around statistical methods and models \\n A self-starting approach along with strong communication and collaboration skills \\n \\n At Figma, one of our values is Grow as you go. We believe in hiring smart, curious people who are excited to learn and develop their skills. If you're excited about this role but your past experience doesn't align perfectly with the points outlined in the job description, we encourage you to apply anyways. You may be just the right candidate for this or other roles. \\n  Read more about our team \\n \\n Inside Figma: my time as a new grad \\n Inside Figma: a Q&A with our 2021 interns and new grads \\n Investing in Figma: The Decade of Design \\n \\n Pay Transparency Disclosure \\n  If based in Figma's San Francisco or New York hub offices, this role has the annual base salary range stated below. \\n  Job level and actual compensation will be decided based on factors including, but not limited to, individual qualifications objectively assessed during the interview process (including skills and prior relevant experience, potential impact, and scope of role), market demands, and specific work location. The listed range is a guideline, and the range for this role may be modified. For roles that are available to be filled remotely, the pay range is localized according to employee work location by a factor of between 80% and 100% of range. Please discuss your specific work location with your recruiter for more information. \\n  Figma offers equity to employees, as well a competitive package of additional benefits, including health, dental & vision, retirement with company contribution, parental leave & reproductive or family planning support, mental health & wellness benefits, generous PTO, company recharge days, a learning & development stipend, a work from home stipend, and cell phone reimbursement. Figma also offers sales incentive pay for most sales roles. Figma's compensation and benefits are subject to change and may be modified in the future. \\n  Annual Base Salary Range (SF/NY Hub): \\n  $140,000—$140,000 USD \\n  We will work to ensure individuals with disabilities are provided reasonable accommodation to participate in the interview process, to perform essential job functions, and to receive other benefits and privileges of employment. Please let your recruiter know if you require accommodation. \\n  About Figma \\n  Dylan Field and Evan Wallace co-founded Figma in 2012 with the vision of building tools for designers in the browser. Their goal was to create the first design tool that combined the accessibility of the Web with the functionality of a native app. Today Figma is a platform with tools and spaces to support the entire product development process—idea to design to build—and has simplified collaboration for companies like Microsoft, Uber, and The New York Times to name a few. \\n  At Figma, we celebrate and support our differences. We know employing a team rich in diverse backgrounds, experiences, and opinions allows our employees, products, and community to flourish. Figma is an equal opportunity workplace—we are dedicated to equal employment opportunities regardless of race, color, ancestry, religion, sex, national orientation, sexual orientation, age, citizenship, marital status, disability, gender identity, or Veteran status. We also consider qualified applicants regardless of criminal histories, consistent with legal requirements. \\n  By applying for this job, the candidate acknowledges and agrees that any personal data contained in their application or supporting materials will be processed in accordance with the applicable candidate section of Figma's Privacy Policy.\""
      ]
     },
     "execution_count": 9,
     "metadata": {},
     "output_type": "execute_result"
    }
   ],
   "source": [
    "test_descs[0]"
   ]
  },
  {
   "cell_type": "code",
   "execution_count": 47,
   "metadata": {},
   "outputs": [],
   "source": [
    "# Less useful for babbage engine as it can't do specific formatting.  Keep in case I switch to davinci\n",
    "SYSTEM_PROMPT = \"Identify all technologies in the following text. I will provide the sentences to extract from and the output format with examples. The outputted technologies should be in all lowercase.\\n\"\n",
    "GUIDELINES_PROMPT = (\n",
    "    \"Output Format:\\n\"\n",
    "    \"{'tech': [list of technologies present]}\\n\"\n",
    "    \"If no technologies are present, have the return value be an empty list\\n\"\n",
    "    \"\\n\"\n",
    "    \"Examples:\\n\"\n",
    "    \"\\n\"\n",
    "    \"1. Sentences: Seeking a qualified Data Analyst with experience with cloud technologies such as Hadoop as well as 5+ years of experience coding in Python, Java, and/or R.\\n\"\n",
    "    \"Output: {'tech': ['hadoop', 'python', 'java', 'r']}\\n\"\n",
    "    \"\\n\"\n",
    "    \"2. Sentences: We are searching for those who have used PowerBI connected to Azure to create dashboards and futher business needs.  Previous work with Excel is mandatory\\n\"\n",
    "    \"Output: {'tech': ['powerbi', 'azure', 'excel']}\\n\"\n",
    "    \"\\n\"\n",
    "    \"3. Sentences: You should have projects in which pytorch was used in conjunction with other tools such as pandas and/or tensorflow.  Our company prides ourselves on our inclusivity and stive to connect with any and all who seek to join.\\n\"\n",
    "    \"Output: {'tech': ['pytorch', 'pandas', 'tensorflow']}\\n\"\n",
    "    \"\\n\"\n",
    "    \"4. Sentences: While we are looking for data analysts, data engineers and those with experience with other data-driven tools are encouraged to apply\\n\"\n",
    "    \"Output: {'tech': []}\\n\"\n",
    ")"
   ]
  },
  {
   "cell_type": "code",
   "execution_count": 67,
   "metadata": {},
   "outputs": [],
   "source": [
    "example_text = test_descs[26]"
   ]
  },
  {
   "cell_type": "code",
   "execution_count": 101,
   "metadata": {},
   "outputs": [
    {
     "data": {
      "text/plain": [
       "'eClinical Solutions helps life sciences organizations around the world accelerate clinical development initiatives with expert data services and the elluminate Clinical Data Cloud – the foundation of digital trials. Together, the elluminate platform and digital data services give clients self-service access to all their data from one centralized location plus advanced analytics that help them make smarter, faster business decisions. \\n \\n  The eClinical Solutions Engineering team has true greenfield opportunities for software engineers who want to develop innovative revenue-generating products that are revolutionizing the life sciences industry. You will work on a team that is developing enterprise-level clinical data software. At eClinical Solutions, you will be recognized and rewarded for your ideas and accomplishments, all while contributing to the latest disruptive technology incorporating modern software architectures, data science, and advanced analytics. \\n \\n \\n  You will make an impact: \\n \\n  As a Principal Software Engineer, you will be a core member of the elluminate Product Development team. elluminate is a next generation data integration and analytics cloud platform that enables life sciences organizations to optimize the aggregation, standardization, and analysis of their data throughout the clinical development life cycle. You will be primarily responsible for the design and development of core modules for the platform and will be involved in all phases of the software development lifecycle, including reviewing functional specifications, design, development, unit testing, code reviews and release management. \\n \\n \\n  Accelerate your skills and career within a fast-growing company while impacting the future of healthcare. \\n \\n \\n  Your day to day: \\n \\n \\n \\n  Work with the Engineering team to design, develop, test, and deploy highly interactive and data driven web applications \\n Apply good technical practices and contribute to the application architecture with a focus on scalability, maintainability, security, and performance \\n Design and write unit tests and participate in code reviews \\n Research and utilize new technologies on an ongoing basis \\n Collaborate with the Software Quality Assurance team to test the system functionality \\n Provide diagnostic support and fix defects as needed \\n Provide technical support for existing elluminate product releases \\n Provide technical guidance, training, and support to other Engineers \\n Ensure compliance with eClinical Solutions and industry quality standards, regulations, guidelines and procedures \\n Other duties as assigned \\n \\n \\n \\n  Take the first step towards your dream career. Here is what we are looking for in this role. \\n \\n  Qualifications: \\n \\n \\n \\n  Bachelor’s degree or Master’s degree in Computer Science and/or equivalent work experience preferred \\n Excellent knowledge of English \\n 10+ years in software design and development \\n Master level expertise in C# and Net MVC \\n Proficiency in relational database concepts, including SQL queries, data modeling and design, preferably in Microsoft SQL Server \\n Working knowledge in HTML, CSS, JavaScript \\n Thorough understanding of the fundamentals of software design principles, patterns, and practices \\n Strong Software Development Lifecycle experience (Agile methodology experience is preferred) \\n Ability to write optimized yet clean code that performs well and is also easy to maintain \\n Experience with secure development including knowledge of known vulnerabilities and countermeasures \\n Good documentation skills and ability to contribute to relevant software documents such as features description, acceptance criteria, design documents, release notes, etc. \\n Strong technical project management experience. Must be able to estimate work effort and manage timelines effectively to meet deadlines \\n Experience working with Quality Assurance Engineers in test driven design – where developers work in collaboration with Test Engineers to write test cases against new features before implementation to address defects \\n Proven ability to work independently as well as with other team members \\n Must be a critical thinker and able to analyze and evaluate trade-offs in making design decisions \\n Excellent verbal and written communication skills \\n Working knowledge/professional experience in Angular is a plus \\n Experience operating in a Start-Up environment is a plus \\n Experience in the Life Science industry and/or working with clinical trial data is a plus \\n Experience creating data visualizations in a SaaS product is a plus \\n Experience with microservices, distributed systems, cloud AWS technologies is a plus \\n Working knowledge/professional experience with SageMaker is a plus \\n \\n \\n \\n  Accelerate your skills and career within a fast-growing company while impacting the future of healthcare. We have shared our story, now we look forward to learning yours! \\n \\n  eClinical is a winner of the 2023 Top Workplaces USA national award! We have also received numerous Culture Excellence Awards celebrating our exceptional company vision, values, and employee experience. See all the details here: https://topworkplaces.com/company/eclinical-solutions/ \\n \\n  eClinical Solutions is a people first organization. Our inclusive culture values the contribution that diversity brings to our business. We celebrate individual experiences that connect us and that inspire innovation in our community. Our team seeks out opportunities to learn, grow and continuously improve. Bring your authentic self, you are welcome here! \\n \\n  We are proud to be an equal opportunity employer that values diversity. Our management team is committed to the principle that employment decisions are based on qualifications, merit, culture fit and business need.'"
      ]
     },
     "execution_count": 101,
     "metadata": {},
     "output_type": "execute_result"
    }
   ],
   "source": [
    "test_descs[84]\n",
    "# C#, Net MVC, SQL, Microsoft SQL Server, HTML, CSS, JavaScript, Agile, Angular, SaaS, AWS, SageMaker, "
   ]
  },
  {
   "cell_type": "code",
   "execution_count": 68,
   "metadata": {},
   "outputs": [
    {
     "data": {
      "text/plain": [
       "\"Meta is seeking a Research Engineer to join our Large Language Model (LLM) Research team. We conduct focused research and engineering to build state-of-the-art LLMs, which we often open-source, like our team’s recent Llama 2. We are looking for strong engineers who have a background in generative AI and NLP, with experience in areas like language model evaluation; data processing for pre-training and fine-tuning; responsible LLMs; LLM alignment; reinforcement learning for language model tuning; efficient training and inference; and/or multilingual and multimodal modeling.\\n  \\n \\n \\n Research Engineer, Language - Generative AI Responsibilities:    \\n \\n Design methods, tools, and infrastructure to push forward the state of the art in large language models. \\n  Define research goals informed by practical engineering concerns. \\n  Contribute to experiments, including designing experimental details, writing reusable code, running evaluations, and organizing results. \\n  Adapt standard machine learning methods to best exploit modern parallel environments (e.g. distributed clusters, multicore SMP, and GPU). \\n  Work with a large and globally distributed team. \\n  Contribute to publications and open-sourcing efforts. \\n \\n \\n \\n \\n Minimum Qualifications:   \\n \\n  Bachelor's degree in Computer Science, Computer Engineering, relevant technical field, or equivalent practical experience. \\n  Research experience in machine learning, deep learning, and/or natural language processing. \\n  Experience with developing machine learning models at scale from inception to business impact. \\n  Programming experience in Python and hands-on experience with frameworks such as PyTorch. \\n  Exposure to architectural patterns of large scale software applications. \\n \\n \\n \\n \\n Preferred Qualifications:   \\n \\n  Master's degree in Computer Science, Computer Engineering, relevant technical field, or equivalent practical experience. \\n  A PhD in AI, computer science, data science, or related technical fields. \\n  Direct experience in generative AI and LLM research. \\n  First author publications at peer-reviewed AI conferences (e.g., NeurIPS, CVPR, ICML, ICLR, ICCV, and ACL). \\n \\n \\n \\n \\n \\n \\n \\n  Meta is proud to be an Equal Employment Opportunity and Affirmative Action employer. We do not discriminate based upon race, religion, color, national origin, sex (including pregnancy, childbirth, or related medical conditions), sexual orientation, gender, gender identity, gender expression, transgender status, sexual stereotypes, age, status as a protected veteran, status as an individual with a disability, or other applicable legally protected characteristics. We also consider qualified applicants with criminal histories, consistent with applicable federal, state and local law. Meta participates in the E-Verify program in certain locations, as required by law. Please note that Meta may leverage artificial intelligence and machine learning technologies in connection with applications for employment. \\n   \\n  Meta is committed to providing reasonable accommodations for candidates with disabilities in our recruiting process. If you need any assistance or accommodations due to a disability, please let us know at accommodations-ext@fb.com.\""
      ]
     },
     "execution_count": 68,
     "metadata": {},
     "output_type": "execute_result"
    }
   ],
   "source": [
    "example_text \n",
    "# holds an example 'Meta' job ad\n",
    "# Explicit techs: Llama 2, python, pytorch"
   ]
  },
  {
   "cell_type": "code",
   "execution_count": 110,
   "metadata": {},
   "outputs": [],
   "source": [
    "def get_techs(text):\n",
    "    response = openai.ChatCompletion.create(\n",
    "        model=\"gpt-3.5-turbo\",\n",
    "        messages=[\n",
    "            {\"role\":\"system\", \"content\":\"You identify specific technology names from job descriptions.  Respond only with a list of the names of the specific technologies.\"},\n",
    "            {\"role\":\"user\", \"content\":f\"Identify the specific technologies in the following text and respond with them in a list: {example_text}\"},\n",
    "            {\"role\":\"assistant\", \"content\":\"llama 2, python, pytorch\"},\n",
    "            {\"role\":\"user\", \"content\":f\"Indentify the specific technologies in the following text: {text}\"}\n",
    "        ]\n",
    "    )\n",
    "    return response"
   ]
  },
  {
   "cell_type": "code",
   "execution_count": 111,
   "metadata": {},
   "outputs": [],
   "source": [
    "test = get_techs(test_descs[84])"
   ]
  },
  {
   "cell_type": "code",
   "execution_count": 112,
   "metadata": {},
   "outputs": [
    {
     "data": {
      "text/plain": [
       "'elluminate Clinical Data Cloud, C#, .NET MVC, Microsoft SQL Server, HTML, CSS, JavaScript, Agile methodology, Angular, microservices, AWS technologies, SageMaker'"
      ]
     },
     "execution_count": 112,
     "metadata": {},
     "output_type": "execute_result"
    }
   ],
   "source": [
    "test[\"choices\"][0][\"message\"][\"content\"]"
   ]
  },
  {
   "cell_type": "code",
   "execution_count": 114,
   "metadata": {},
   "outputs": [
    {
     "data": {
      "text/plain": [
       "['elluminate clinical data cloud',\n",
       " 'c#',\n",
       " '.net mvc',\n",
       " 'microsoft sql server',\n",
       " 'html',\n",
       " 'css',\n",
       " 'javascript',\n",
       " 'agile methodology',\n",
       " 'angular',\n",
       " 'microservices',\n",
       " 'aws technologies',\n",
       " 'sagemaker']"
      ]
     },
     "execution_count": 114,
     "metadata": {},
     "output_type": "execute_result"
    }
   ],
   "source": [
    "[x.lower() for x in test[\"choices\"][0][\"message\"][\"content\"].split(\", \")]"
   ]
  },
  {
   "cell_type": "code",
   "execution_count": 115,
   "metadata": {},
   "outputs": [
    {
     "data": {
      "text/plain": [
       "<OpenAIObject chat.completion id=chatcmpl-7wbBKB9lz4iHpdqwhiscX8v973vn7 at 0x200af8af310> JSON: {\n",
       "  \"id\": \"chatcmpl-7wbBKB9lz4iHpdqwhiscX8v973vn7\",\n",
       "  \"object\": \"chat.completion\",\n",
       "  \"created\": 1694200306,\n",
       "  \"model\": \"gpt-3.5-turbo-0613\",\n",
       "  \"choices\": [\n",
       "    {\n",
       "      \"index\": 0,\n",
       "      \"message\": {\n",
       "        \"role\": \"assistant\",\n",
       "        \"content\": \"elluminate Clinical Data Cloud, C#, .NET MVC, Microsoft SQL Server, HTML, CSS, JavaScript, Agile methodology, Angular, microservices, AWS technologies, SageMaker\"\n",
       "      },\n",
       "      \"finish_reason\": \"stop\"\n",
       "    }\n",
       "  ],\n",
       "  \"usage\": {\n",
       "    \"prompt_tokens\": 1682,\n",
       "    \"completion_tokens\": 36,\n",
       "    \"total_tokens\": 1718\n",
       "  }\n",
       "}"
      ]
     },
     "execution_count": 115,
     "metadata": {},
     "output_type": "execute_result"
    }
   ],
   "source": [
    "test"
   ]
  },
  {
   "cell_type": "code",
   "execution_count": 122,
   "metadata": {},
   "outputs": [
    {
     "name": "stdout",
     "output_type": "stream",
     "text": [
      "This takes around $0.002595/job\n",
      "Since we have around 520 jobs/day, this is about $1.35/day\n"
     ]
    }
   ],
   "source": [
    "cost_per_job = test[\"usage\"][\"prompt_tokens\"]*(0.0015/1000) + test[\"usage\"][\"completion_tokens\"]*(0.002/1000)\n",
    "print(f'This takes around ${cost_per_job}/job')\n",
    "print(f\"Since we have around {len(test_descs)} jobs/day, this is about ${round(len(test_descs) * cost_per_job, 2)}/day\")"
   ]
  },
  {
   "cell_type": "code",
   "execution_count": null,
   "metadata": {},
   "outputs": [],
   "source": []
  }
 ],
 "metadata": {
  "kernelspec": {
   "display_name": ".venv",
   "language": "python",
   "name": "python3"
  },
  "language_info": {
   "codemirror_mode": {
    "name": "ipython",
    "version": 3
   },
   "file_extension": ".py",
   "mimetype": "text/x-python",
   "name": "python",
   "nbconvert_exporter": "python",
   "pygments_lexer": "ipython3",
   "version": "3.9.16"
  },
  "orig_nbformat": 4
 },
 "nbformat": 4,
 "nbformat_minor": 2
}
