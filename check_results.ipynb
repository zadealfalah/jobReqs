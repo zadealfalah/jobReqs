{
 "cells": [
  {
   "cell_type": "code",
   "execution_count": 7,
   "metadata": {},
   "outputs": [],
   "source": [
    "import json\n",
    "import os\n",
    "from collections import Counter, defaultdict"
   ]
  },
  {
   "cell_type": "code",
   "execution_count": 41,
   "metadata": {},
   "outputs": [
    {
     "name": "stdout",
     "output_type": "stream",
     "text": [
      "There were no techs in f60df5de35a1b95a\n",
      "There were no techs in 9043da2d0ed3e416\n",
      "There were no techs in 4977831790024af0\n",
      "There were no techs in 4977831790024af0\n",
      "There were no techs in c0242a5605676714\n",
      "There were no techs in 7bd79a3b9d840979\n",
      "There were no techs in ba61c3be3365872a\n",
      "There were no techs in 6de1d41ca9824864\n",
      "There were no techs in 5440af24dca68223\n",
      "There were no techs in 25df306119d637ef\n",
      "There were no techs in 25df306119d637ef\n",
      "There were no techs in 25df306119d637ef\n",
      "There were no techs in 955fb8edf4260ba6\n",
      "There were no techs in 6241ef967ad41400\n",
      "There were no techs in 1d869b2761cc2ede\n",
      "There were no techs in eb810c852c7b6513\n",
      "There were no techs in ad4f3c4f9e2964ba\n",
      "There were no techs in 06b546b9db7c18a5\n",
      "There were no techs in 82cf35fb0767a359\n",
      "There were no techs in 9eb193307dd4c84c\n",
      "There were no techs in b29fd5b13a0dc0aa\n",
      "There were no techs in 29467dcd628e49aa\n",
      "There were no techs in 529980800968460e\n",
      "There were no techs in 172169a3ebc49c9e\n",
      "There were no techs in 5316cfeeb7b8789c\n",
      "There were no techs in 9fdb490beccfb683\n",
      "There were no techs in a09ba2809f0f53f1\n",
      "There were no techs in ad07d2e43eca2158\n",
      "There were no techs in eb5deda9421f39f7\n",
      "There were no techs in 4cb4c443a0b8f7c5\n",
      "There were no techs in 918512cb5251eb4a\n",
      "There were no techs in e31fd669a0e422af\n",
      "There were no techs in 7637d7c15ede4c9f\n",
      "There were no techs in 2b919e228ca7fade\n",
      "There were no techs in 2b919e228ca7fade\n",
      "There were no techs in b803f9bc48c42262\n",
      "There were no techs in 0bcac22de6e21461\n",
      "There were no techs in eb7d256814a70d7c\n",
      "There were no techs in 13f8a7c3e0e7c403\n",
      "There were no techs in b31c0c6630150d23\n"
     ]
    }
   ],
   "source": [
    "test = defaultdict(Counter)\n",
    "with open(fr\"data/p-raw_data-11-09-23.json\") as f:\n",
    "    data = json.load(f)\n",
    "    for key in list(data.keys()):\n",
    "        if key.startswith(\"metadata\"):\n",
    "            continue\n",
    "        else:\n",
    "            for term in data[key]['terms']:\n",
    "                # print(term)\n",
    "                # if term in test: #test[term] already exists, keep counting\n",
    "                #     continue\n",
    "                # else:\n",
    "                #     test[term] = 0 #init the search term to the test dict then keep counting\n",
    "                \n",
    "                # print(test[term])\n",
    "                try:\n",
    "                    for tech in data[key]['techs'][0].split(\"\\n\"):\n",
    "                        clean_tech = tech.strip()\n",
    "                        clean_tech = clean_tech.replace(\"-\", \"\")\n",
    "                        if tech in test[term]:\n",
    "                            test[term][clean_tech] += 1\n",
    "                        else:\n",
    "                            test[term][clean_tech] = 1\n",
    "                except IndexError:\n",
    "                    print(f\"There were no techs in {key}\")\n",
    "\n",
    "                "
   ]
  },
  {
   "cell_type": "code",
   "execution_count": 23,
   "metadata": {},
   "outputs": [
    {
     "data": {
      "text/plain": [
       "['microsoft excel',\n",
       " 'contract management',\n",
       " 'legal documentation',\n",
       " 'data analysis tools',\n",
       " 'data visualization',\n",
       " 'dashboards',\n",
       " 'macros',\n",
       " 'recruiting',\n",
       " 'talent acquisition',\n",
       " 'recruitment processes',\n",
       " 'hris systems',\n",
       " 'workday (ats)']"
      ]
     },
     "execution_count": 23,
     "metadata": {},
     "output_type": "execute_result"
    }
   ],
   "source": [
    "data['b376020741b70ef0']['techs'][0].split(\"\\n\")"
   ]
  },
  {
   "cell_type": "code",
   "execution_count": null,
   "metadata": {},
   "outputs": [],
   "source": []
  }
 ],
 "metadata": {
  "kernelspec": {
   "display_name": ".venv",
   "language": "python",
   "name": "python3"
  },
  "language_info": {
   "codemirror_mode": {
    "name": "ipython",
    "version": 3
   },
   "file_extension": ".py",
   "mimetype": "text/x-python",
   "name": "python",
   "nbconvert_exporter": "python",
   "pygments_lexer": "ipython3",
   "version": "3.9.16"
  },
  "orig_nbformat": 4
 },
 "nbformat": 4,
 "nbformat_minor": 2
}
